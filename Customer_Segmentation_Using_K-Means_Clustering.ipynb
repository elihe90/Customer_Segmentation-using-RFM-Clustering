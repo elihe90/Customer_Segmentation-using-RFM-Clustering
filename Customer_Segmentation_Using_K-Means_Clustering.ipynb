{
 "cells": [
  {
   "cell_type": "markdown",
   "id": "aa343353",
   "metadata": {},
   "source": [
    "# Customer_Segmentation  using RFM Clustering"
   ]
  },
  {
   "cell_type": "markdown",
   "id": "4be3a4ee",
   "metadata": {},
   "source": [
    "Customer segmentation is the process of separating customers into groups on the basis of their shared behavior or other attributes. The groups should be homogeneous within themselves and should also be heterogeneous to each other. The overall aim of this process is to identify high-value customer base i.e. customers that have the highest growth potential or are the most profitable."
   ]
  },
  {
   "cell_type": "code",
   "execution_count": 1,
   "id": "2702a091",
   "metadata": {},
   "outputs": [],
   "source": [
    "import pandas as pd\n",
    "import numpy as np\n",
    "import matplotlib.pyplot as plt\n",
    "import seaborn as sns"
   ]
  },
  {
   "cell_type": "markdown",
   "id": "3baafc15",
   "metadata": {},
   "source": [
    "### Understanding Business Question "
   ]
  },
  {
   "cell_type": "markdown",
   "id": "69d8d817",
   "metadata": {},
   "source": [
    "### RFM Segmentation"
   ]
  },
  {
   "cell_type": "markdown",
   "id": "4db4a216",
   "metadata": {},
   "source": [
    "\n",
    "RFM stands for Recency, Frequency, and Monetary. RFM analysis is a commonly used technique to generate and assign a score to each customer based on how recent their last transaction was (Recency), how many transactions they have made in the last year (Frequency), and what the monetary value of their transaction was (Monetary)."
   ]
  },
  {
   "cell_type": "code",
   "execution_count": 65,
   "id": "f9312f61",
   "metadata": {},
   "outputs": [],
   "source": [
    "df = pd.read_csv('CS_08.csv')"
   ]
  },
  {
   "cell_type": "code",
   "execution_count": 66,
   "id": "6c9e2285",
   "metadata": {},
   "outputs": [
    {
     "data": {
      "text/html": [
       "<div>\n",
       "<style scoped>\n",
       "    .dataframe tbody tr th:only-of-type {\n",
       "        vertical-align: middle;\n",
       "    }\n",
       "\n",
       "    .dataframe tbody tr th {\n",
       "        vertical-align: top;\n",
       "    }\n",
       "\n",
       "    .dataframe thead th {\n",
       "        text-align: right;\n",
       "    }\n",
       "</style>\n",
       "<table border=\"1\" class=\"dataframe\">\n",
       "  <thead>\n",
       "    <tr style=\"text-align: right;\">\n",
       "      <th></th>\n",
       "      <th>order_id</th>\n",
       "      <th>created_ts</th>\n",
       "      <th>shamsy_date</th>\n",
       "      <th>customer_id</th>\n",
       "      <th>total_purchase</th>\n",
       "    </tr>\n",
       "  </thead>\n",
       "  <tbody>\n",
       "    <tr>\n",
       "      <th>0</th>\n",
       "      <td>5c92a3d9a7b11b0001e4ec46</td>\n",
       "      <td>3/21/2019 0:04</td>\n",
       "      <td>1398-Farvardin-1</td>\n",
       "      <td>5bf1092b24aa9a000135ac7c</td>\n",
       "      <td>240000.0</td>\n",
       "    </tr>\n",
       "    <tr>\n",
       "      <th>1</th>\n",
       "      <td>5c92af8024aa9a00015b536d</td>\n",
       "      <td>3/21/2019 0:54</td>\n",
       "      <td>1398-Farvardin-1</td>\n",
       "      <td>58d2fe9b46e0fb0001e432c0</td>\n",
       "      <td>620000.0</td>\n",
       "    </tr>\n",
       "    <tr>\n",
       "      <th>2</th>\n",
       "      <td>5c930b0ea7b11b0001e4f07e</td>\n",
       "      <td>3/21/2019 7:24</td>\n",
       "      <td>1398-Farvardin-1</td>\n",
       "      <td>5c85f140a7b11b0001e65ec1</td>\n",
       "      <td>320000.0</td>\n",
       "    </tr>\n",
       "    <tr>\n",
       "      <th>3</th>\n",
       "      <td>5c93157324aa9a00015b5750</td>\n",
       "      <td>3/21/2019 8:09</td>\n",
       "      <td>1398-Farvardin-1</td>\n",
       "      <td>59c52fe152faff00014e4932</td>\n",
       "      <td>220000.0</td>\n",
       "    </tr>\n",
       "    <tr>\n",
       "      <th>4</th>\n",
       "      <td>5c93250024aa9a00015b5884</td>\n",
       "      <td>3/21/2019 9:15</td>\n",
       "      <td>1398-Farvardin-1</td>\n",
       "      <td>58eba26fd601800001b98a34</td>\n",
       "      <td>360000.0</td>\n",
       "    </tr>\n",
       "  </tbody>\n",
       "</table>\n",
       "</div>"
      ],
      "text/plain": [
       "                   order_id      created_ts       shamsy_date  \\\n",
       "0  5c92a3d9a7b11b0001e4ec46  3/21/2019 0:04  1398-Farvardin-1   \n",
       "1  5c92af8024aa9a00015b536d  3/21/2019 0:54  1398-Farvardin-1   \n",
       "2  5c930b0ea7b11b0001e4f07e  3/21/2019 7:24  1398-Farvardin-1   \n",
       "3  5c93157324aa9a00015b5750  3/21/2019 8:09  1398-Farvardin-1   \n",
       "4  5c93250024aa9a00015b5884  3/21/2019 9:15  1398-Farvardin-1   \n",
       "\n",
       "                customer_id  total_purchase  \n",
       "0  5bf1092b24aa9a000135ac7c        240000.0  \n",
       "1  58d2fe9b46e0fb0001e432c0        620000.0  \n",
       "2  5c85f140a7b11b0001e65ec1        320000.0  \n",
       "3  59c52fe152faff00014e4932        220000.0  \n",
       "4  58eba26fd601800001b98a34        360000.0  "
      ]
     },
     "execution_count": 66,
     "metadata": {},
     "output_type": "execute_result"
    }
   ],
   "source": [
    "df.head()"
   ]
  },
  {
   "cell_type": "code",
   "execution_count": 67,
   "id": "f877beb8",
   "metadata": {},
   "outputs": [
    {
     "data": {
      "text/html": [
       "<div>\n",
       "<style scoped>\n",
       "    .dataframe tbody tr th:only-of-type {\n",
       "        vertical-align: middle;\n",
       "    }\n",
       "\n",
       "    .dataframe tbody tr th {\n",
       "        vertical-align: top;\n",
       "    }\n",
       "\n",
       "    .dataframe thead th {\n",
       "        text-align: right;\n",
       "    }\n",
       "</style>\n",
       "<table border=\"1\" class=\"dataframe\">\n",
       "  <thead>\n",
       "    <tr style=\"text-align: right;\">\n",
       "      <th></th>\n",
       "      <th>order_id</th>\n",
       "      <th>created_ts</th>\n",
       "      <th>shamsy_date</th>\n",
       "      <th>customer_id</th>\n",
       "      <th>total_purchase</th>\n",
       "    </tr>\n",
       "  </thead>\n",
       "  <tbody>\n",
       "    <tr>\n",
       "      <th>40532</th>\n",
       "      <td>5d35fd03b2cf38d2d17b11c9</td>\n",
       "      <td>7/22/2019 22:44</td>\n",
       "      <td>1398-Tir-31</td>\n",
       "      <td>58d2972b46e0fb0001e42133</td>\n",
       "      <td>280000.0</td>\n",
       "    </tr>\n",
       "    <tr>\n",
       "      <th>40533</th>\n",
       "      <td>5d35fe44ec2c893461deb4e0</td>\n",
       "      <td>7/22/2019 22:49</td>\n",
       "      <td>1398-Tir-31</td>\n",
       "      <td>597009a6c9e77c00018c27d9</td>\n",
       "      <td>300000.0</td>\n",
       "    </tr>\n",
       "    <tr>\n",
       "      <th>40534</th>\n",
       "      <td>5d35ff28b2cf38d2d17b1228</td>\n",
       "      <td>7/22/2019 22:53</td>\n",
       "      <td>1398-Tir-31</td>\n",
       "      <td>59222bce52faff00016c59cc</td>\n",
       "      <td>180000.0</td>\n",
       "    </tr>\n",
       "    <tr>\n",
       "      <th>40535</th>\n",
       "      <td>5d360499b2cf38d2d17b12f6</td>\n",
       "      <td>7/22/2019 23:16</td>\n",
       "      <td>1398-Tir-31</td>\n",
       "      <td>5d19f78ab2cf38e5e4deddd6</td>\n",
       "      <td>180000.0</td>\n",
       "    </tr>\n",
       "    <tr>\n",
       "      <th>40536</th>\n",
       "      <td>5d360b2eec2c893461deb667</td>\n",
       "      <td>7/22/2019 23:44</td>\n",
       "      <td>1398-Tir-31</td>\n",
       "      <td>5c46e8fe24aa9a00019af009</td>\n",
       "      <td>180000.0</td>\n",
       "    </tr>\n",
       "  </tbody>\n",
       "</table>\n",
       "</div>"
      ],
      "text/plain": [
       "                       order_id       created_ts  shamsy_date  \\\n",
       "40532  5d35fd03b2cf38d2d17b11c9  7/22/2019 22:44  1398-Tir-31   \n",
       "40533  5d35fe44ec2c893461deb4e0  7/22/2019 22:49  1398-Tir-31   \n",
       "40534  5d35ff28b2cf38d2d17b1228  7/22/2019 22:53  1398-Tir-31   \n",
       "40535  5d360499b2cf38d2d17b12f6  7/22/2019 23:16  1398-Tir-31   \n",
       "40536  5d360b2eec2c893461deb667  7/22/2019 23:44  1398-Tir-31   \n",
       "\n",
       "                    customer_id  total_purchase  \n",
       "40532  58d2972b46e0fb0001e42133        280000.0  \n",
       "40533  597009a6c9e77c00018c27d9        300000.0  \n",
       "40534  59222bce52faff00016c59cc        180000.0  \n",
       "40535  5d19f78ab2cf38e5e4deddd6        180000.0  \n",
       "40536  5c46e8fe24aa9a00019af009        180000.0  "
      ]
     },
     "execution_count": 67,
     "metadata": {},
     "output_type": "execute_result"
    }
   ],
   "source": [
    "df.tail()"
   ]
  },
  {
   "cell_type": "code",
   "execution_count": 68,
   "id": "0dd6b77d",
   "metadata": {},
   "outputs": [
    {
     "data": {
      "text/plain": [
       "(40537, 5)"
      ]
     },
     "execution_count": 68,
     "metadata": {},
     "output_type": "execute_result"
    }
   ],
   "source": [
    "df.shape"
   ]
  },
  {
   "cell_type": "code",
   "execution_count": 69,
   "id": "6861ae06",
   "metadata": {},
   "outputs": [
    {
     "name": "stdout",
     "output_type": "stream",
     "text": [
      "<class 'pandas.core.frame.DataFrame'>\n",
      "RangeIndex: 40537 entries, 0 to 40536\n",
      "Data columns (total 5 columns):\n",
      " #   Column          Non-Null Count  Dtype  \n",
      "---  ------          --------------  -----  \n",
      " 0   order_id        40537 non-null  object \n",
      " 1   created_ts      40537 non-null  object \n",
      " 2   shamsy_date     40537 non-null  object \n",
      " 3   customer_id     40537 non-null  object \n",
      " 4   total_purchase  40537 non-null  float64\n",
      "dtypes: float64(1), object(4)\n",
      "memory usage: 1.5+ MB\n"
     ]
    }
   ],
   "source": [
    "df.info()"
   ]
  },
  {
   "cell_type": "code",
   "execution_count": 74,
   "id": "7f21bdd3",
   "metadata": {},
   "outputs": [
    {
     "data": {
      "text/html": [
       "<div>\n",
       "<style scoped>\n",
       "    .dataframe tbody tr th:only-of-type {\n",
       "        vertical-align: middle;\n",
       "    }\n",
       "\n",
       "    .dataframe tbody tr th {\n",
       "        vertical-align: top;\n",
       "    }\n",
       "\n",
       "    .dataframe thead th {\n",
       "        text-align: right;\n",
       "    }\n",
       "</style>\n",
       "<table border=\"1\" class=\"dataframe\">\n",
       "  <thead>\n",
       "    <tr style=\"text-align: right;\">\n",
       "      <th></th>\n",
       "      <th>total_purchase</th>\n",
       "    </tr>\n",
       "  </thead>\n",
       "  <tbody>\n",
       "    <tr>\n",
       "      <th>count</th>\n",
       "      <td>4.053700e+04</td>\n",
       "    </tr>\n",
       "    <tr>\n",
       "      <th>mean</th>\n",
       "      <td>3.488023e+05</td>\n",
       "    </tr>\n",
       "    <tr>\n",
       "      <th>std</th>\n",
       "      <td>1.414450e+05</td>\n",
       "    </tr>\n",
       "    <tr>\n",
       "      <th>min</th>\n",
       "      <td>8.000000e+04</td>\n",
       "    </tr>\n",
       "    <tr>\n",
       "      <th>25%</th>\n",
       "      <td>2.600000e+05</td>\n",
       "    </tr>\n",
       "    <tr>\n",
       "      <th>50%</th>\n",
       "      <td>3.200000e+05</td>\n",
       "    </tr>\n",
       "    <tr>\n",
       "      <th>75%</th>\n",
       "      <td>4.200000e+05</td>\n",
       "    </tr>\n",
       "    <tr>\n",
       "      <th>max</th>\n",
       "      <td>3.200000e+06</td>\n",
       "    </tr>\n",
       "  </tbody>\n",
       "</table>\n",
       "</div>"
      ],
      "text/plain": [
       "       total_purchase\n",
       "count    4.053700e+04\n",
       "mean     3.488023e+05\n",
       "std      1.414450e+05\n",
       "min      8.000000e+04\n",
       "25%      2.600000e+05\n",
       "50%      3.200000e+05\n",
       "75%      4.200000e+05\n",
       "max      3.200000e+06"
      ]
     },
     "execution_count": 74,
     "metadata": {},
     "output_type": "execute_result"
    }
   ],
   "source": [
    "df.describe()\n"
   ]
  },
  {
   "cell_type": "code",
   "execution_count": 75,
   "id": "88c562af",
   "metadata": {},
   "outputs": [
    {
     "data": {
      "image/png": "[encoded data removed]",
      "text/plain": [
       "<Figure size 640x480 with 1 Axes>"
      ]
     },
     "metadata": {},
     "output_type": "display_data"
    }
   ],
   "source": [
    "#Histogram of total purchase\n",
    "plt.hist(df['total_purchase'], \n",
    "         color = 'green', \n",
    "         bins = np.linspace(df['total_purchase'].min(), \n",
    "                            df['total_purchase'].max(), 50))\n",
    "plt.xlabel('Total Purchase/Rls')\n",
    "plt.ylabel('Frequency')\n",
    "plt.show()"
   ]
  },
  {
   "cell_type": "code",
   "execution_count": 76,
   "id": "efe70610",
   "metadata": {},
   "outputs": [],
   "source": [
    "#daily demand\n",
    "df['created_ts'] = pd.to_datetime(df['created_ts'])\n"
   ]
  },
  {
   "cell_type": "code",
   "execution_count": 77,
   "id": "d675752c",
   "metadata": {},
   "outputs": [
    {
     "name": "stdout",
     "output_type": "stream",
     "text": [
      "<class 'pandas.core.frame.DataFrame'>\n",
      "RangeIndex: 40537 entries, 0 to 40536\n",
      "Data columns (total 5 columns):\n",
      " #   Column          Non-Null Count  Dtype         \n",
      "---  ------          --------------  -----         \n",
      " 0   order_id        40537 non-null  object        \n",
      " 1   created_ts      40537 non-null  datetime64[ns]\n",
      " 2   shamsy_date     40537 non-null  object        \n",
      " 3   customer_id     40537 non-null  object        \n",
      " 4   total_purchase  40537 non-null  float64       \n",
      "dtypes: datetime64[ns](1), float64(1), object(3)\n",
      "memory usage: 1.5+ MB\n"
     ]
    }
   ],
   "source": [
    "df.info()"
   ]
  },
  {
   "cell_type": "code",
   "execution_count": 31,
   "id": "d9cde797",
   "metadata": {},
   "outputs": [
    {
     "data": {
      "text/plain": [
       "Timestamp('2019-03-21 00:04:00')"
      ]
     },
     "execution_count": 31,
     "metadata": {},
     "output_type": "execute_result"
    }
   ],
   "source": [
    "df.iloc[0, 1]"
   ]
  },
  {
   "cell_type": "code",
   "execution_count": 78,
   "id": "6ffafed0",
   "metadata": {},
   "outputs": [
    {
     "data": {
      "text/plain": [
       "0        2019-03-21\n",
       "1        2019-03-21\n",
       "2        2019-03-21\n",
       "3        2019-03-21\n",
       "4        2019-03-21\n",
       "            ...    \n",
       "40532    2019-07-22\n",
       "40533    2019-07-22\n",
       "40534    2019-07-22\n",
       "40535    2019-07-22\n",
       "40536    2019-07-22\n",
       "Name: created_ts, Length: 40537, dtype: object"
      ]
     },
     "execution_count": 78,
     "metadata": {},
     "output_type": "execute_result"
    }
   ],
   "source": [
    "df['created_ts'].dt.date"
   ]
  },
  {
   "cell_type": "code",
   "execution_count": 79,
   "id": "3cae4746",
   "metadata": {},
   "outputs": [],
   "source": [
    "df['date'] = df['created_ts'].dt.date"
   ]
  },
  {
   "cell_type": "code",
   "execution_count": 35,
   "id": "78a68ed6",
   "metadata": {},
   "outputs": [
    {
     "name": "stdout",
     "output_type": "stream",
     "text": [
      "<class 'pandas.core.frame.DataFrame'>\n",
      "RangeIndex: 40537 entries, 0 to 40536\n",
      "Data columns (total 6 columns):\n",
      " #   Column          Non-Null Count  Dtype         \n",
      "---  ------          --------------  -----         \n",
      " 0   order_id        40537 non-null  object        \n",
      " 1   created_ts      40537 non-null  datetime64[ns]\n",
      " 2   shamsy_date     40537 non-null  object        \n",
      " 3   customer_id     40537 non-null  object        \n",
      " 4   total_purchase  40537 non-null  float64       \n",
      " 5   date            40537 non-null  object        \n",
      "dtypes: datetime64[ns](1), float64(1), object(4)\n",
      "memory usage: 1.9+ MB\n"
     ]
    }
   ],
   "source": [
    "df.info()"
   ]
  },
  {
   "cell_type": "code",
   "execution_count": 80,
   "id": "4ec2c30a",
   "metadata": {},
   "outputs": [],
   "source": [
    "daily_demand = df.groupby(by = ['date'])['order_id'].count()"
   ]
  },
  {
   "cell_type": "code",
   "execution_count": 81,
   "id": "24dd0b01",
   "metadata": {},
   "outputs": [
    {
     "data": {
      "text/plain": [
       "date\n",
       "2019-03-21      33\n",
       "2019-03-22      21\n",
       "2019-03-23      38\n",
       "2019-03-24      27\n",
       "2019-03-25      73\n",
       "              ... \n",
       "2019-07-18     517\n",
       "2019-07-19      56\n",
       "2019-07-20     765\n",
       "2019-07-21    1009\n",
       "2019-07-22     982\n",
       "Name: order_id, Length: 124, dtype: int64"
      ]
     },
     "execution_count": 81,
     "metadata": {},
     "output_type": "execute_result"
    }
   ],
   "source": [
    "daily_demand"
   ]
  },
  {
   "cell_type": "code",
   "execution_count": 38,
   "id": "cc9cd313",
   "metadata": {},
   "outputs": [
    {
     "data": {
      "image/png": "[encoded data removed]",
      "text/plain": [
       "<Figure size 640x480 with 1 Axes>"
      ]
     },
     "metadata": {},
     "output_type": "display_data"
    }
   ],
   "source": [
    "daily_demand.plot()\n",
    "plt.xticks(rotation = 90) \n",
    "plt.show()"
   ]
  },
  {
   "cell_type": "markdown",
   "id": "77335bfb",
   "metadata": {},
   "source": [
    "## Create RFM Dataset"
   ]
  },
  {
   "cell_type": "markdown",
   "id": "c14e9565",
   "metadata": {},
   "source": [
    "### Frequency"
   ]
  },
  {
   "cell_type": "code",
   "execution_count": 82,
   "id": "ac260a20",
   "metadata": {},
   "outputs": [
    {
     "data": {
      "text/html": [
       "<div>\n",
       "<style scoped>\n",
       "    .dataframe tbody tr th:only-of-type {\n",
       "        vertical-align: middle;\n",
       "    }\n",
       "\n",
       "    .dataframe tbody tr th {\n",
       "        vertical-align: top;\n",
       "    }\n",
       "\n",
       "    .dataframe thead th {\n",
       "        text-align: right;\n",
       "    }\n",
       "</style>\n",
       "<table border=\"1\" class=\"dataframe\">\n",
       "  <thead>\n",
       "    <tr style=\"text-align: right;\">\n",
       "      <th></th>\n",
       "      <th>freq</th>\n",
       "    </tr>\n",
       "    <tr>\n",
       "      <th>customer_id</th>\n",
       "      <th></th>\n",
       "    </tr>\n",
       "  </thead>\n",
       "  <tbody>\n",
       "    <tr>\n",
       "      <th>5.94687E+23</th>\n",
       "      <td>2</td>\n",
       "    </tr>\n",
       "    <tr>\n",
       "      <th>5.94772E+23</th>\n",
       "      <td>1</td>\n",
       "    </tr>\n",
       "    <tr>\n",
       "      <th>5.94773E+23</th>\n",
       "      <td>5</td>\n",
       "    </tr>\n",
       "    <tr>\n",
       "      <th>5.95E+25</th>\n",
       "      <td>1</td>\n",
       "    </tr>\n",
       "    <tr>\n",
       "      <th>58a4b0e452faff000179dbd0</th>\n",
       "      <td>7</td>\n",
       "    </tr>\n",
       "    <tr>\n",
       "      <th>...</th>\n",
       "      <td>...</td>\n",
       "    </tr>\n",
       "    <tr>\n",
       "      <th>5d3584f8b2cf38d2d17aafba</th>\n",
       "      <td>1</td>\n",
       "    </tr>\n",
       "    <tr>\n",
       "      <th>5d359600b2cf38d2d17ac0e7</th>\n",
       "      <td>1</td>\n",
       "    </tr>\n",
       "    <tr>\n",
       "      <th>5d35a06bb2cf38d2d17acbc3</th>\n",
       "      <td>1</td>\n",
       "    </tr>\n",
       "    <tr>\n",
       "      <th>5d35ae07b2cf38d2d17adb54</th>\n",
       "      <td>1</td>\n",
       "    </tr>\n",
       "    <tr>\n",
       "      <th>5d35cf29b2cf38d2d17afcda</th>\n",
       "      <td>1</td>\n",
       "    </tr>\n",
       "  </tbody>\n",
       "</table>\n",
       "<p>14964 rows × 1 columns</p>\n",
       "</div>"
      ],
      "text/plain": [
       "                          freq\n",
       "customer_id                   \n",
       "5.94687E+23                  2\n",
       "5.94772E+23                  1\n",
       "5.94773E+23                  5\n",
       "5.95E+25                     1\n",
       "58a4b0e452faff000179dbd0     7\n",
       "...                        ...\n",
       "5d3584f8b2cf38d2d17aafba     1\n",
       "5d359600b2cf38d2d17ac0e7     1\n",
       "5d35a06bb2cf38d2d17acbc3     1\n",
       "5d35ae07b2cf38d2d17adb54     1\n",
       "5d35cf29b2cf38d2d17afcda     1\n",
       "\n",
       "[14964 rows x 1 columns]"
      ]
     },
     "execution_count": 82,
     "metadata": {},
     "output_type": "execute_result"
    }
   ],
   "source": [
    "customer_f = pd.DataFrame({'freq': df.groupby(by = ['customer_id'])['order_id'].count()})\n",
    "customer_f"
   ]
  },
  {
   "cell_type": "code",
   "execution_count": 83,
   "id": "c2b375d2",
   "metadata": {},
   "outputs": [
    {
     "data": {
      "text/plain": [
       "Text(0, 0.5, 'Frequency')"
      ]
     },
     "execution_count": 83,
     "metadata": {},
     "output_type": "execute_result"
    },
    {
     "data": {
      "image/png": "[encoded data removed]",
      "text/plain": [
       "<Figure size 640x480 with 1 Axes>"
      ]
     },
     "metadata": {},
     "output_type": "display_data"
    }
   ],
   "source": [
    "#Histogram of purchase frequency\n",
    "plt.hist(customer_f['freq'], \n",
    "         color = 'green', \n",
    "         bins = np.linspace(customer_f['freq'].min(), customer_f['freq'].max(), 50))\n",
    "plt.xlabel('Purchase Frequency')\n",
    "plt.ylabel('Frequency')"
   ]
  },
  {
   "cell_type": "code",
   "execution_count": 84,
   "id": "bb1196e9",
   "metadata": {},
   "outputs": [
    {
     "data": {
      "text/html": [
       "<div>\n",
       "<style scoped>\n",
       "    .dataframe tbody tr th:only-of-type {\n",
       "        vertical-align: middle;\n",
       "    }\n",
       "\n",
       "    .dataframe tbody tr th {\n",
       "        vertical-align: top;\n",
       "    }\n",
       "\n",
       "    .dataframe thead th {\n",
       "        text-align: right;\n",
       "    }\n",
       "</style>\n",
       "<table border=\"1\" class=\"dataframe\">\n",
       "  <thead>\n",
       "    <tr style=\"text-align: right;\">\n",
       "      <th></th>\n",
       "      <th>freq</th>\n",
       "    </tr>\n",
       "  </thead>\n",
       "  <tbody>\n",
       "    <tr>\n",
       "      <th>count</th>\n",
       "      <td>14964.000000</td>\n",
       "    </tr>\n",
       "    <tr>\n",
       "      <th>mean</th>\n",
       "      <td>2.708968</td>\n",
       "    </tr>\n",
       "    <tr>\n",
       "      <th>std</th>\n",
       "      <td>3.425412</td>\n",
       "    </tr>\n",
       "    <tr>\n",
       "      <th>min</th>\n",
       "      <td>1.000000</td>\n",
       "    </tr>\n",
       "    <tr>\n",
       "      <th>25%</th>\n",
       "      <td>1.000000</td>\n",
       "    </tr>\n",
       "    <tr>\n",
       "      <th>50%</th>\n",
       "      <td>1.000000</td>\n",
       "    </tr>\n",
       "    <tr>\n",
       "      <th>75%</th>\n",
       "      <td>3.000000</td>\n",
       "    </tr>\n",
       "    <tr>\n",
       "      <th>max</th>\n",
       "      <td>61.000000</td>\n",
       "    </tr>\n",
       "  </tbody>\n",
       "</table>\n",
       "</div>"
      ],
      "text/plain": [
       "               freq\n",
       "count  14964.000000\n",
       "mean       2.708968\n",
       "std        3.425412\n",
       "min        1.000000\n",
       "25%        1.000000\n",
       "50%        1.000000\n",
       "75%        3.000000\n",
       "max       61.000000"
      ]
     },
     "execution_count": 84,
     "metadata": {},
     "output_type": "execute_result"
    }
   ],
   "source": [
    "customer_f.describe()"
   ]
  },
  {
   "cell_type": "code",
   "execution_count": 85,
   "id": "8e95a787",
   "metadata": {},
   "outputs": [
    {
     "data": {
      "text/html": [
       "<div>\n",
       "<style scoped>\n",
       "    .dataframe tbody tr th:only-of-type {\n",
       "        vertical-align: middle;\n",
       "    }\n",
       "\n",
       "    .dataframe tbody tr th {\n",
       "        vertical-align: top;\n",
       "    }\n",
       "\n",
       "    .dataframe thead th {\n",
       "        text-align: right;\n",
       "    }\n",
       "</style>\n",
       "<table border=\"1\" class=\"dataframe\">\n",
       "  <thead>\n",
       "    <tr style=\"text-align: right;\">\n",
       "      <th></th>\n",
       "      <th>order_id</th>\n",
       "      <th>created_ts</th>\n",
       "      <th>shamsy_date</th>\n",
       "      <th>customer_id</th>\n",
       "      <th>total_purchase</th>\n",
       "      <th>date</th>\n",
       "    </tr>\n",
       "  </thead>\n",
       "  <tbody>\n",
       "    <tr>\n",
       "      <th>40532</th>\n",
       "      <td>5d35fd03b2cf38d2d17b11c9</td>\n",
       "      <td>2019-07-22 22:44:00</td>\n",
       "      <td>1398-Tir-31</td>\n",
       "      <td>58d2972b46e0fb0001e42133</td>\n",
       "      <td>280000.0</td>\n",
       "      <td>2019-07-22</td>\n",
       "    </tr>\n",
       "    <tr>\n",
       "      <th>40533</th>\n",
       "      <td>5d35fe44ec2c893461deb4e0</td>\n",
       "      <td>2019-07-22 22:49:00</td>\n",
       "      <td>1398-Tir-31</td>\n",
       "      <td>597009a6c9e77c00018c27d9</td>\n",
       "      <td>300000.0</td>\n",
       "      <td>2019-07-22</td>\n",
       "    </tr>\n",
       "    <tr>\n",
       "      <th>40534</th>\n",
       "      <td>5d35ff28b2cf38d2d17b1228</td>\n",
       "      <td>2019-07-22 22:53:00</td>\n",
       "      <td>1398-Tir-31</td>\n",
       "      <td>59222bce52faff00016c59cc</td>\n",
       "      <td>180000.0</td>\n",
       "      <td>2019-07-22</td>\n",
       "    </tr>\n",
       "    <tr>\n",
       "      <th>40535</th>\n",
       "      <td>5d360499b2cf38d2d17b12f6</td>\n",
       "      <td>2019-07-22 23:16:00</td>\n",
       "      <td>1398-Tir-31</td>\n",
       "      <td>5d19f78ab2cf38e5e4deddd6</td>\n",
       "      <td>180000.0</td>\n",
       "      <td>2019-07-22</td>\n",
       "    </tr>\n",
       "    <tr>\n",
       "      <th>40536</th>\n",
       "      <td>5d360b2eec2c893461deb667</td>\n",
       "      <td>2019-07-22 23:44:00</td>\n",
       "      <td>1398-Tir-31</td>\n",
       "      <td>5c46e8fe24aa9a00019af009</td>\n",
       "      <td>180000.0</td>\n",
       "      <td>2019-07-22</td>\n",
       "    </tr>\n",
       "  </tbody>\n",
       "</table>\n",
       "</div>"
      ],
      "text/plain": [
       "                       order_id          created_ts  shamsy_date  \\\n",
       "40532  5d35fd03b2cf38d2d17b11c9 2019-07-22 22:44:00  1398-Tir-31   \n",
       "40533  5d35fe44ec2c893461deb4e0 2019-07-22 22:49:00  1398-Tir-31   \n",
       "40534  5d35ff28b2cf38d2d17b1228 2019-07-22 22:53:00  1398-Tir-31   \n",
       "40535  5d360499b2cf38d2d17b12f6 2019-07-22 23:16:00  1398-Tir-31   \n",
       "40536  5d360b2eec2c893461deb667 2019-07-22 23:44:00  1398-Tir-31   \n",
       "\n",
       "                    customer_id  total_purchase        date  \n",
       "40532  58d2972b46e0fb0001e42133        280000.0  2019-07-22  \n",
       "40533  597009a6c9e77c00018c27d9        300000.0  2019-07-22  \n",
       "40534  59222bce52faff00016c59cc        180000.0  2019-07-22  \n",
       "40535  5d19f78ab2cf38e5e4deddd6        180000.0  2019-07-22  \n",
       "40536  5c46e8fe24aa9a00019af009        180000.0  2019-07-22  "
      ]
     },
     "execution_count": 85,
     "metadata": {},
     "output_type": "execute_result"
    }
   ],
   "source": [
    "df.tail()"
   ]
  },
  {
   "cell_type": "code",
   "execution_count": 86,
   "id": "1b87578e",
   "metadata": {},
   "outputs": [],
   "source": [
    "r_date = pd.to_datetime('2019-07-23').date() - df['date']"
   ]
  },
  {
   "cell_type": "code",
   "execution_count": 87,
   "id": "cba53859",
   "metadata": {},
   "outputs": [
    {
     "data": {
      "text/plain": [
       "Timedelta('124 days 00:00:00')"
      ]
     },
     "execution_count": 87,
     "metadata": {},
     "output_type": "execute_result"
    }
   ],
   "source": [
    "r_date[0]"
   ]
  },
  {
   "cell_type": "code",
   "execution_count": 48,
   "id": "8d69ba27",
   "metadata": {},
   "outputs": [
    {
     "data": {
      "text/plain": [
       "0        124\n",
       "1        124\n",
       "2        124\n",
       "3        124\n",
       "4        124\n",
       "        ... \n",
       "40532      1\n",
       "40533      1\n",
       "40534      1\n",
       "40535      1\n",
       "40536      1\n",
       "Name: date, Length: 40537, dtype: int64"
      ]
     },
     "execution_count": 48,
     "metadata": {},
     "output_type": "execute_result"
    }
   ],
   "source": [
    "r_date.dt.days"
   ]
  },
  {
   "cell_type": "code",
   "execution_count": 88,
   "id": "c264b38f",
   "metadata": {},
   "outputs": [
    {
     "data": {
      "text/html": [
       "<div>\n",
       "<style scoped>\n",
       "    .dataframe tbody tr th:only-of-type {\n",
       "        vertical-align: middle;\n",
       "    }\n",
       "\n",
       "    .dataframe tbody tr th {\n",
       "        vertical-align: top;\n",
       "    }\n",
       "\n",
       "    .dataframe thead th {\n",
       "        text-align: right;\n",
       "    }\n",
       "</style>\n",
       "<table border=\"1\" class=\"dataframe\">\n",
       "  <thead>\n",
       "    <tr style=\"text-align: right;\">\n",
       "      <th></th>\n",
       "      <th>order_id</th>\n",
       "      <th>created_ts</th>\n",
       "      <th>shamsy_date</th>\n",
       "      <th>customer_id</th>\n",
       "      <th>total_purchase</th>\n",
       "      <th>date</th>\n",
       "      <th>r_date</th>\n",
       "    </tr>\n",
       "  </thead>\n",
       "  <tbody>\n",
       "    <tr>\n",
       "      <th>0</th>\n",
       "      <td>5c92a3d9a7b11b0001e4ec46</td>\n",
       "      <td>2019-03-21 00:04:00</td>\n",
       "      <td>1398-Farvardin-1</td>\n",
       "      <td>5bf1092b24aa9a000135ac7c</td>\n",
       "      <td>240000.0</td>\n",
       "      <td>2019-03-21</td>\n",
       "      <td>124</td>\n",
       "    </tr>\n",
       "    <tr>\n",
       "      <th>1</th>\n",
       "      <td>5c92af8024aa9a00015b536d</td>\n",
       "      <td>2019-03-21 00:54:00</td>\n",
       "      <td>1398-Farvardin-1</td>\n",
       "      <td>58d2fe9b46e0fb0001e432c0</td>\n",
       "      <td>620000.0</td>\n",
       "      <td>2019-03-21</td>\n",
       "      <td>124</td>\n",
       "    </tr>\n",
       "    <tr>\n",
       "      <th>2</th>\n",
       "      <td>5c930b0ea7b11b0001e4f07e</td>\n",
       "      <td>2019-03-21 07:24:00</td>\n",
       "      <td>1398-Farvardin-1</td>\n",
       "      <td>5c85f140a7b11b0001e65ec1</td>\n",
       "      <td>320000.0</td>\n",
       "      <td>2019-03-21</td>\n",
       "      <td>124</td>\n",
       "    </tr>\n",
       "    <tr>\n",
       "      <th>3</th>\n",
       "      <td>5c93157324aa9a00015b5750</td>\n",
       "      <td>2019-03-21 08:09:00</td>\n",
       "      <td>1398-Farvardin-1</td>\n",
       "      <td>59c52fe152faff00014e4932</td>\n",
       "      <td>220000.0</td>\n",
       "      <td>2019-03-21</td>\n",
       "      <td>124</td>\n",
       "    </tr>\n",
       "    <tr>\n",
       "      <th>4</th>\n",
       "      <td>5c93250024aa9a00015b5884</td>\n",
       "      <td>2019-03-21 09:15:00</td>\n",
       "      <td>1398-Farvardin-1</td>\n",
       "      <td>58eba26fd601800001b98a34</td>\n",
       "      <td>360000.0</td>\n",
       "      <td>2019-03-21</td>\n",
       "      <td>124</td>\n",
       "    </tr>\n",
       "    <tr>\n",
       "      <th>...</th>\n",
       "      <td>...</td>\n",
       "      <td>...</td>\n",
       "      <td>...</td>\n",
       "      <td>...</td>\n",
       "      <td>...</td>\n",
       "      <td>...</td>\n",
       "      <td>...</td>\n",
       "    </tr>\n",
       "    <tr>\n",
       "      <th>40532</th>\n",
       "      <td>5d35fd03b2cf38d2d17b11c9</td>\n",
       "      <td>2019-07-22 22:44:00</td>\n",
       "      <td>1398-Tir-31</td>\n",
       "      <td>58d2972b46e0fb0001e42133</td>\n",
       "      <td>280000.0</td>\n",
       "      <td>2019-07-22</td>\n",
       "      <td>1</td>\n",
       "    </tr>\n",
       "    <tr>\n",
       "      <th>40533</th>\n",
       "      <td>5d35fe44ec2c893461deb4e0</td>\n",
       "      <td>2019-07-22 22:49:00</td>\n",
       "      <td>1398-Tir-31</td>\n",
       "      <td>597009a6c9e77c00018c27d9</td>\n",
       "      <td>300000.0</td>\n",
       "      <td>2019-07-22</td>\n",
       "      <td>1</td>\n",
       "    </tr>\n",
       "    <tr>\n",
       "      <th>40534</th>\n",
       "      <td>5d35ff28b2cf38d2d17b1228</td>\n",
       "      <td>2019-07-22 22:53:00</td>\n",
       "      <td>1398-Tir-31</td>\n",
       "      <td>59222bce52faff00016c59cc</td>\n",
       "      <td>180000.0</td>\n",
       "      <td>2019-07-22</td>\n",
       "      <td>1</td>\n",
       "    </tr>\n",
       "    <tr>\n",
       "      <th>40535</th>\n",
       "      <td>5d360499b2cf38d2d17b12f6</td>\n",
       "      <td>2019-07-22 23:16:00</td>\n",
       "      <td>1398-Tir-31</td>\n",
       "      <td>5d19f78ab2cf38e5e4deddd6</td>\n",
       "      <td>180000.0</td>\n",
       "      <td>2019-07-22</td>\n",
       "      <td>1</td>\n",
       "    </tr>\n",
       "    <tr>\n",
       "      <th>40536</th>\n",
       "      <td>5d360b2eec2c893461deb667</td>\n",
       "      <td>2019-07-22 23:44:00</td>\n",
       "      <td>1398-Tir-31</td>\n",
       "      <td>5c46e8fe24aa9a00019af009</td>\n",
       "      <td>180000.0</td>\n",
       "      <td>2019-07-22</td>\n",
       "      <td>1</td>\n",
       "    </tr>\n",
       "  </tbody>\n",
       "</table>\n",
       "<p>40537 rows × 7 columns</p>\n",
       "</div>"
      ],
      "text/plain": [
       "                       order_id          created_ts       shamsy_date  \\\n",
       "0      5c92a3d9a7b11b0001e4ec46 2019-03-21 00:04:00  1398-Farvardin-1   \n",
       "1      5c92af8024aa9a00015b536d 2019-03-21 00:54:00  1398-Farvardin-1   \n",
       "2      5c930b0ea7b11b0001e4f07e 2019-03-21 07:24:00  1398-Farvardin-1   \n",
       "3      5c93157324aa9a00015b5750 2019-03-21 08:09:00  1398-Farvardin-1   \n",
       "4      5c93250024aa9a00015b5884 2019-03-21 09:15:00  1398-Farvardin-1   \n",
       "...                         ...                 ...               ...   \n",
       "40532  5d35fd03b2cf38d2d17b11c9 2019-07-22 22:44:00       1398-Tir-31   \n",
       "40533  5d35fe44ec2c893461deb4e0 2019-07-22 22:49:00       1398-Tir-31   \n",
       "40534  5d35ff28b2cf38d2d17b1228 2019-07-22 22:53:00       1398-Tir-31   \n",
       "40535  5d360499b2cf38d2d17b12f6 2019-07-22 23:16:00       1398-Tir-31   \n",
       "40536  5d360b2eec2c893461deb667 2019-07-22 23:44:00       1398-Tir-31   \n",
       "\n",
       "                    customer_id  total_purchase        date  r_date  \n",
       "0      5bf1092b24aa9a000135ac7c        240000.0  2019-03-21     124  \n",
       "1      58d2fe9b46e0fb0001e432c0        620000.0  2019-03-21     124  \n",
       "2      5c85f140a7b11b0001e65ec1        320000.0  2019-03-21     124  \n",
       "3      59c52fe152faff00014e4932        220000.0  2019-03-21     124  \n",
       "4      58eba26fd601800001b98a34        360000.0  2019-03-21     124  \n",
       "...                         ...             ...         ...     ...  \n",
       "40532  58d2972b46e0fb0001e42133        280000.0  2019-07-22       1  \n",
       "40533  597009a6c9e77c00018c27d9        300000.0  2019-07-22       1  \n",
       "40534  59222bce52faff00016c59cc        180000.0  2019-07-22       1  \n",
       "40535  5d19f78ab2cf38e5e4deddd6        180000.0  2019-07-22       1  \n",
       "40536  5c46e8fe24aa9a00019af009        180000.0  2019-07-22       1  \n",
       "\n",
       "[40537 rows x 7 columns]"
      ]
     },
     "execution_count": 88,
     "metadata": {},
     "output_type": "execute_result"
    }
   ],
   "source": [
    "df['r_date'] = r_date.dt.days\n",
    "df\n"
   ]
  },
  {
   "cell_type": "code",
   "execution_count": 89,
   "id": "8143353e",
   "metadata": {},
   "outputs": [
    {
     "data": {
      "text/html": [
       "<div>\n",
       "<style scoped>\n",
       "    .dataframe tbody tr th:only-of-type {\n",
       "        vertical-align: middle;\n",
       "    }\n",
       "\n",
       "    .dataframe tbody tr th {\n",
       "        vertical-align: top;\n",
       "    }\n",
       "\n",
       "    .dataframe thead th {\n",
       "        text-align: right;\n",
       "    }\n",
       "</style>\n",
       "<table border=\"1\" class=\"dataframe\">\n",
       "  <thead>\n",
       "    <tr style=\"text-align: right;\">\n",
       "      <th></th>\n",
       "      <th>recency</th>\n",
       "    </tr>\n",
       "    <tr>\n",
       "      <th>customer_id</th>\n",
       "      <th></th>\n",
       "    </tr>\n",
       "  </thead>\n",
       "  <tbody>\n",
       "    <tr>\n",
       "      <th>5.94687E+23</th>\n",
       "      <td>9</td>\n",
       "    </tr>\n",
       "    <tr>\n",
       "      <th>5.94772E+23</th>\n",
       "      <td>64</td>\n",
       "    </tr>\n",
       "    <tr>\n",
       "      <th>5.94773E+23</th>\n",
       "      <td>9</td>\n",
       "    </tr>\n",
       "    <tr>\n",
       "      <th>5.95E+25</th>\n",
       "      <td>5</td>\n",
       "    </tr>\n",
       "    <tr>\n",
       "      <th>58a4b0e452faff000179dbd0</th>\n",
       "      <td>7</td>\n",
       "    </tr>\n",
       "    <tr>\n",
       "      <th>...</th>\n",
       "      <td>...</td>\n",
       "    </tr>\n",
       "    <tr>\n",
       "      <th>5d3584f8b2cf38d2d17aafba</th>\n",
       "      <td>1</td>\n",
       "    </tr>\n",
       "    <tr>\n",
       "      <th>5d359600b2cf38d2d17ac0e7</th>\n",
       "      <td>1</td>\n",
       "    </tr>\n",
       "    <tr>\n",
       "      <th>5d35a06bb2cf38d2d17acbc3</th>\n",
       "      <td>1</td>\n",
       "    </tr>\n",
       "    <tr>\n",
       "      <th>5d35ae07b2cf38d2d17adb54</th>\n",
       "      <td>1</td>\n",
       "    </tr>\n",
       "    <tr>\n",
       "      <th>5d35cf29b2cf38d2d17afcda</th>\n",
       "      <td>1</td>\n",
       "    </tr>\n",
       "  </tbody>\n",
       "</table>\n",
       "<p>14964 rows × 1 columns</p>\n",
       "</div>"
      ],
      "text/plain": [
       "                          recency\n",
       "customer_id                      \n",
       "5.94687E+23                     9\n",
       "5.94772E+23                    64\n",
       "5.94773E+23                     9\n",
       "5.95E+25                        5\n",
       "58a4b0e452faff000179dbd0        7\n",
       "...                           ...\n",
       "5d3584f8b2cf38d2d17aafba        1\n",
       "5d359600b2cf38d2d17ac0e7        1\n",
       "5d35a06bb2cf38d2d17acbc3        1\n",
       "5d35ae07b2cf38d2d17adb54        1\n",
       "5d35cf29b2cf38d2d17afcda        1\n",
       "\n",
       "[14964 rows x 1 columns]"
      ]
     },
     "execution_count": 89,
     "metadata": {},
     "output_type": "execute_result"
    }
   ],
   "source": [
    "customer_r = pd.DataFrame({'recency': df.groupby(by = ['customer_id'])['r_date'].min()})\n",
    "customer_r"
   ]
  },
  {
   "cell_type": "code",
   "execution_count": 52,
   "id": "c398bda7",
   "metadata": {},
   "outputs": [
    {
     "data": {
      "text/plain": [
       "Text(0, 0.5, 'Frequency')"
      ]
     },
     "execution_count": 52,
     "metadata": {},
     "output_type": "execute_result"
    },
    {
     "data": {
      "image/png": "[encoded data removed]",
      "text/plain": [
       "<Figure size 640x480 with 1 Axes>"
      ]
     },
     "metadata": {},
     "output_type": "display_data"
    }
   ],
   "source": [
    "#Histogram of recency\n",
    "plt.hist(customer_r['recency'], color = 'green', \n",
    "         bins = np.linspace(customer_r['recency'].min(), customer_r['recency'].max(), 50))\n",
    "plt.xlabel('Recency')\n",
    "plt.ylabel('Frequency')"
   ]
  },
  {
   "cell_type": "code",
   "execution_count": 90,
   "id": "0093c499",
   "metadata": {},
   "outputs": [
    {
     "data": {
      "text/html": [
       "<div>\n",
       "<style scoped>\n",
       "    .dataframe tbody tr th:only-of-type {\n",
       "        vertical-align: middle;\n",
       "    }\n",
       "\n",
       "    .dataframe tbody tr th {\n",
       "        vertical-align: top;\n",
       "    }\n",
       "\n",
       "    .dataframe thead th {\n",
       "        text-align: right;\n",
       "    }\n",
       "</style>\n",
       "<table border=\"1\" class=\"dataframe\">\n",
       "  <thead>\n",
       "    <tr style=\"text-align: right;\">\n",
       "      <th></th>\n",
       "      <th>recency</th>\n",
       "    </tr>\n",
       "  </thead>\n",
       "  <tbody>\n",
       "    <tr>\n",
       "      <th>count</th>\n",
       "      <td>14964.000000</td>\n",
       "    </tr>\n",
       "    <tr>\n",
       "      <th>mean</th>\n",
       "      <td>30.497995</td>\n",
       "    </tr>\n",
       "    <tr>\n",
       "      <th>std</th>\n",
       "      <td>30.833106</td>\n",
       "    </tr>\n",
       "    <tr>\n",
       "      <th>min</th>\n",
       "      <td>1.000000</td>\n",
       "    </tr>\n",
       "    <tr>\n",
       "      <th>25%</th>\n",
       "      <td>7.000000</td>\n",
       "    </tr>\n",
       "    <tr>\n",
       "      <th>50%</th>\n",
       "      <td>19.000000</td>\n",
       "    </tr>\n",
       "    <tr>\n",
       "      <th>75%</th>\n",
       "      <td>43.000000</td>\n",
       "    </tr>\n",
       "    <tr>\n",
       "      <th>max</th>\n",
       "      <td>124.000000</td>\n",
       "    </tr>\n",
       "  </tbody>\n",
       "</table>\n",
       "</div>"
      ],
      "text/plain": [
       "            recency\n",
       "count  14964.000000\n",
       "mean      30.497995\n",
       "std       30.833106\n",
       "min        1.000000\n",
       "25%        7.000000\n",
       "50%       19.000000\n",
       "75%       43.000000\n",
       "max      124.000000"
      ]
     },
     "execution_count": 90,
     "metadata": {},
     "output_type": "execute_result"
    }
   ],
   "source": [
    "customer_r.describe()"
   ]
  },
  {
   "cell_type": "markdown",
   "id": "d1c0b5c3",
   "metadata": {},
   "source": [
    "## Monetary"
   ]
  },
  {
   "cell_type": "code",
   "execution_count": 91,
   "id": "5b737d25",
   "metadata": {},
   "outputs": [
    {
     "data": {
      "text/html": [
       "<div>\n",
       "<style scoped>\n",
       "    .dataframe tbody tr th:only-of-type {\n",
       "        vertical-align: middle;\n",
       "    }\n",
       "\n",
       "    .dataframe tbody tr th {\n",
       "        vertical-align: top;\n",
       "    }\n",
       "\n",
       "    .dataframe thead th {\n",
       "        text-align: right;\n",
       "    }\n",
       "</style>\n",
       "<table border=\"1\" class=\"dataframe\">\n",
       "  <thead>\n",
       "    <tr style=\"text-align: right;\">\n",
       "      <th></th>\n",
       "      <th>monetary</th>\n",
       "    </tr>\n",
       "    <tr>\n",
       "      <th>customer_id</th>\n",
       "      <th></th>\n",
       "    </tr>\n",
       "  </thead>\n",
       "  <tbody>\n",
       "    <tr>\n",
       "      <th>5.94687E+23</th>\n",
       "      <td>680000.0</td>\n",
       "    </tr>\n",
       "    <tr>\n",
       "      <th>5.94772E+23</th>\n",
       "      <td>600000.0</td>\n",
       "    </tr>\n",
       "    <tr>\n",
       "      <th>5.94773E+23</th>\n",
       "      <td>1700000.0</td>\n",
       "    </tr>\n",
       "    <tr>\n",
       "      <th>5.95E+25</th>\n",
       "      <td>320000.0</td>\n",
       "    </tr>\n",
       "    <tr>\n",
       "      <th>58a4b0e452faff000179dbd0</th>\n",
       "      <td>1480000.0</td>\n",
       "    </tr>\n",
       "    <tr>\n",
       "      <th>...</th>\n",
       "      <td>...</td>\n",
       "    </tr>\n",
       "    <tr>\n",
       "      <th>5d3584f8b2cf38d2d17aafba</th>\n",
       "      <td>200000.0</td>\n",
       "    </tr>\n",
       "    <tr>\n",
       "      <th>5d359600b2cf38d2d17ac0e7</th>\n",
       "      <td>520000.0</td>\n",
       "    </tr>\n",
       "    <tr>\n",
       "      <th>5d35a06bb2cf38d2d17acbc3</th>\n",
       "      <td>440000.0</td>\n",
       "    </tr>\n",
       "    <tr>\n",
       "      <th>5d35ae07b2cf38d2d17adb54</th>\n",
       "      <td>200000.0</td>\n",
       "    </tr>\n",
       "    <tr>\n",
       "      <th>5d35cf29b2cf38d2d17afcda</th>\n",
       "      <td>420000.0</td>\n",
       "    </tr>\n",
       "  </tbody>\n",
       "</table>\n",
       "<p>14964 rows × 1 columns</p>\n",
       "</div>"
      ],
      "text/plain": [
       "                           monetary\n",
       "customer_id                        \n",
       "5.94687E+23                680000.0\n",
       "5.94772E+23                600000.0\n",
       "5.94773E+23               1700000.0\n",
       "5.95E+25                   320000.0\n",
       "58a4b0e452faff000179dbd0  1480000.0\n",
       "...                             ...\n",
       "5d3584f8b2cf38d2d17aafba   200000.0\n",
       "5d359600b2cf38d2d17ac0e7   520000.0\n",
       "5d35a06bb2cf38d2d17acbc3   440000.0\n",
       "5d35ae07b2cf38d2d17adb54   200000.0\n",
       "5d35cf29b2cf38d2d17afcda   420000.0\n",
       "\n",
       "[14964 rows x 1 columns]"
      ]
     },
     "execution_count": 91,
     "metadata": {},
     "output_type": "execute_result"
    }
   ],
   "source": [
    "customer_m = pd.DataFrame({'monetary': df.groupby(by = ['customer_id'])['total_purchase'].sum()})\n",
    "customer_m"
   ]
  },
  {
   "cell_type": "markdown",
   "id": "42cf8f4d",
   "metadata": {},
   "source": [
    "## RFM Dataframe for Customers"
   ]
  },
  {
   "cell_type": "code",
   "execution_count": 92,
   "id": "e9341847",
   "metadata": {},
   "outputs": [
    {
     "data": {
      "text/html": [
       "<div>\n",
       "<style scoped>\n",
       "    .dataframe tbody tr th:only-of-type {\n",
       "        vertical-align: middle;\n",
       "    }\n",
       "\n",
       "    .dataframe tbody tr th {\n",
       "        vertical-align: top;\n",
       "    }\n",
       "\n",
       "    .dataframe thead th {\n",
       "        text-align: right;\n",
       "    }\n",
       "</style>\n",
       "<table border=\"1\" class=\"dataframe\">\n",
       "  <thead>\n",
       "    <tr style=\"text-align: right;\">\n",
       "      <th></th>\n",
       "      <th>freq</th>\n",
       "      <th>recency</th>\n",
       "    </tr>\n",
       "    <tr>\n",
       "      <th>customer_id</th>\n",
       "      <th></th>\n",
       "      <th></th>\n",
       "    </tr>\n",
       "  </thead>\n",
       "  <tbody>\n",
       "    <tr>\n",
       "      <th>5.94687E+23</th>\n",
       "      <td>2</td>\n",
       "      <td>9</td>\n",
       "    </tr>\n",
       "    <tr>\n",
       "      <th>5.94772E+23</th>\n",
       "      <td>1</td>\n",
       "      <td>64</td>\n",
       "    </tr>\n",
       "    <tr>\n",
       "      <th>5.94773E+23</th>\n",
       "      <td>5</td>\n",
       "      <td>9</td>\n",
       "    </tr>\n",
       "    <tr>\n",
       "      <th>5.95E+25</th>\n",
       "      <td>1</td>\n",
       "      <td>5</td>\n",
       "    </tr>\n",
       "    <tr>\n",
       "      <th>58a4b0e452faff000179dbd0</th>\n",
       "      <td>7</td>\n",
       "      <td>7</td>\n",
       "    </tr>\n",
       "    <tr>\n",
       "      <th>...</th>\n",
       "      <td>...</td>\n",
       "      <td>...</td>\n",
       "    </tr>\n",
       "    <tr>\n",
       "      <th>5d3584f8b2cf38d2d17aafba</th>\n",
       "      <td>1</td>\n",
       "      <td>1</td>\n",
       "    </tr>\n",
       "    <tr>\n",
       "      <th>5d359600b2cf38d2d17ac0e7</th>\n",
       "      <td>1</td>\n",
       "      <td>1</td>\n",
       "    </tr>\n",
       "    <tr>\n",
       "      <th>5d35a06bb2cf38d2d17acbc3</th>\n",
       "      <td>1</td>\n",
       "      <td>1</td>\n",
       "    </tr>\n",
       "    <tr>\n",
       "      <th>5d35ae07b2cf38d2d17adb54</th>\n",
       "      <td>1</td>\n",
       "      <td>1</td>\n",
       "    </tr>\n",
       "    <tr>\n",
       "      <th>5d35cf29b2cf38d2d17afcda</th>\n",
       "      <td>1</td>\n",
       "      <td>1</td>\n",
       "    </tr>\n",
       "  </tbody>\n",
       "</table>\n",
       "<p>14964 rows × 2 columns</p>\n",
       "</div>"
      ],
      "text/plain": [
       "                          freq  recency\n",
       "customer_id                            \n",
       "5.94687E+23                  2        9\n",
       "5.94772E+23                  1       64\n",
       "5.94773E+23                  5        9\n",
       "5.95E+25                     1        5\n",
       "58a4b0e452faff000179dbd0     7        7\n",
       "...                        ...      ...\n",
       "5d3584f8b2cf38d2d17aafba     1        1\n",
       "5d359600b2cf38d2d17ac0e7     1        1\n",
       "5d35a06bb2cf38d2d17acbc3     1        1\n",
       "5d35ae07b2cf38d2d17adb54     1        1\n",
       "5d35cf29b2cf38d2d17afcda     1        1\n",
       "\n",
       "[14964 rows x 2 columns]"
      ]
     },
     "execution_count": 92,
     "metadata": {},
     "output_type": "execute_result"
    }
   ],
   "source": [
    "df = customer_f.merge(customer_r, left_index = True, right_index = True)\n",
    "df"
   ]
  },
  {
   "cell_type": "code",
   "execution_count": 93,
   "id": "11620913",
   "metadata": {},
   "outputs": [],
   "source": [
    "rfm_customer = df.merge(customer_m, left_index = True, right_index = True)"
   ]
  },
  {
   "cell_type": "code",
   "execution_count": 94,
   "id": "657a6e3d",
   "metadata": {},
   "outputs": [
    {
     "data": {
      "text/html": [
       "<div>\n",
       "<style scoped>\n",
       "    .dataframe tbody tr th:only-of-type {\n",
       "        vertical-align: middle;\n",
       "    }\n",
       "\n",
       "    .dataframe tbody tr th {\n",
       "        vertical-align: top;\n",
       "    }\n",
       "\n",
       "    .dataframe thead th {\n",
       "        text-align: right;\n",
       "    }\n",
       "</style>\n",
       "<table border=\"1\" class=\"dataframe\">\n",
       "  <thead>\n",
       "    <tr style=\"text-align: right;\">\n",
       "      <th></th>\n",
       "      <th>freq</th>\n",
       "      <th>recency</th>\n",
       "      <th>monetary</th>\n",
       "    </tr>\n",
       "    <tr>\n",
       "      <th>customer_id</th>\n",
       "      <th></th>\n",
       "      <th></th>\n",
       "      <th></th>\n",
       "    </tr>\n",
       "  </thead>\n",
       "  <tbody>\n",
       "    <tr>\n",
       "      <th>5.94687E+23</th>\n",
       "      <td>2</td>\n",
       "      <td>9</td>\n",
       "      <td>680000.0</td>\n",
       "    </tr>\n",
       "    <tr>\n",
       "      <th>5.94772E+23</th>\n",
       "      <td>1</td>\n",
       "      <td>64</td>\n",
       "      <td>600000.0</td>\n",
       "    </tr>\n",
       "    <tr>\n",
       "      <th>5.94773E+23</th>\n",
       "      <td>5</td>\n",
       "      <td>9</td>\n",
       "      <td>1700000.0</td>\n",
       "    </tr>\n",
       "    <tr>\n",
       "      <th>5.95E+25</th>\n",
       "      <td>1</td>\n",
       "      <td>5</td>\n",
       "      <td>320000.0</td>\n",
       "    </tr>\n",
       "    <tr>\n",
       "      <th>58a4b0e452faff000179dbd0</th>\n",
       "      <td>7</td>\n",
       "      <td>7</td>\n",
       "      <td>1480000.0</td>\n",
       "    </tr>\n",
       "    <tr>\n",
       "      <th>...</th>\n",
       "      <td>...</td>\n",
       "      <td>...</td>\n",
       "      <td>...</td>\n",
       "    </tr>\n",
       "    <tr>\n",
       "      <th>5d3584f8b2cf38d2d17aafba</th>\n",
       "      <td>1</td>\n",
       "      <td>1</td>\n",
       "      <td>200000.0</td>\n",
       "    </tr>\n",
       "    <tr>\n",
       "      <th>5d359600b2cf38d2d17ac0e7</th>\n",
       "      <td>1</td>\n",
       "      <td>1</td>\n",
       "      <td>520000.0</td>\n",
       "    </tr>\n",
       "    <tr>\n",
       "      <th>5d35a06bb2cf38d2d17acbc3</th>\n",
       "      <td>1</td>\n",
       "      <td>1</td>\n",
       "      <td>440000.0</td>\n",
       "    </tr>\n",
       "    <tr>\n",
       "      <th>5d35ae07b2cf38d2d17adb54</th>\n",
       "      <td>1</td>\n",
       "      <td>1</td>\n",
       "      <td>200000.0</td>\n",
       "    </tr>\n",
       "    <tr>\n",
       "      <th>5d35cf29b2cf38d2d17afcda</th>\n",
       "      <td>1</td>\n",
       "      <td>1</td>\n",
       "      <td>420000.0</td>\n",
       "    </tr>\n",
       "  </tbody>\n",
       "</table>\n",
       "<p>14964 rows × 3 columns</p>\n",
       "</div>"
      ],
      "text/plain": [
       "                          freq  recency   monetary\n",
       "customer_id                                       \n",
       "5.94687E+23                  2        9   680000.0\n",
       "5.94772E+23                  1       64   600000.0\n",
       "5.94773E+23                  5        9  1700000.0\n",
       "5.95E+25                     1        5   320000.0\n",
       "58a4b0e452faff000179dbd0     7        7  1480000.0\n",
       "...                        ...      ...        ...\n",
       "5d3584f8b2cf38d2d17aafba     1        1   200000.0\n",
       "5d359600b2cf38d2d17ac0e7     1        1   520000.0\n",
       "5d35a06bb2cf38d2d17acbc3     1        1   440000.0\n",
       "5d35ae07b2cf38d2d17adb54     1        1   200000.0\n",
       "5d35cf29b2cf38d2d17afcda     1        1   420000.0\n",
       "\n",
       "[14964 rows x 3 columns]"
      ]
     },
     "execution_count": 94,
     "metadata": {},
     "output_type": "execute_result"
    }
   ],
   "source": [
    "rfm_customer"
   ]
  },
  {
   "cell_type": "code",
   "execution_count": 96,
   "id": "99354ea7",
   "metadata": {},
   "outputs": [
    {
     "ename": "NameError",
     "evalue": "name 'customer_r' is not defined",
     "output_type": "error",
     "traceback": [
      "\u001b[1;31m---------------------------------------------------------------------------\u001b[0m",
      "\u001b[1;31mNameError\u001b[0m                                 Traceback (most recent call last)",
      "Cell \u001b[1;32mIn[96], line 2\u001b[0m\n\u001b[0;32m      1\u001b[0m \u001b[38;5;66;03m#Remove some dataframes to free RAM\u001b[39;00m\n\u001b[1;32m----> 2\u001b[0m \u001b[38;5;28;01mdel\u001b[39;00m(customer_r, customer_f, customer_m, df, data)\n",
      "\u001b[1;31mNameError\u001b[0m: name 'customer_r' is not defined"
     ]
    }
   ],
   "source": [
    "#Remove some dataframes to free RAM\n",
    "del(customer_r, customer_f, customer_m, df, data)"
   ]
  },
  {
   "cell_type": "code",
   "execution_count": 97,
   "id": "3899fe6e",
   "metadata": {},
   "outputs": [
    {
     "data": {
      "text/plain": [
       "<matplotlib.collections.PathCollection at 0x174137588d0>"
      ]
     },
     "execution_count": 97,
     "metadata": {},
     "output_type": "execute_result"
    },
    {
     "data": {
      "image/png": "[encoded data removed]",
      "text/plain": [
       "<Figure size 640x480 with 1 Axes>"
      ]
     },
     "metadata": {},
     "output_type": "display_data"
    }
   ],
   "source": [
    "plt.scatter(x = rfm_customer['freq'], \n",
    "            y = rfm_customer['recency'], alpha = 0.3)"
   ]
  },
  {
   "cell_type": "code",
   "execution_count": 98,
   "id": "3814eb96",
   "metadata": {},
   "outputs": [
    {
     "data": {
      "text/plain": [
       "<matplotlib.collections.PathCollection at 0x17413d62d90>"
      ]
     },
     "execution_count": 98,
     "metadata": {},
     "output_type": "execute_result"
    },
    {
     "data": {
      "image/png": "[encoded data removed]",
      "text/plain": [
       "<Figure size 640x480 with 1 Axes>"
      ]
     },
     "metadata": {},
     "output_type": "display_data"
    }
   ],
   "source": [
    "plt.scatter(x = rfm_customer['freq'], \n",
    "            y = rfm_customer['monetary'], alpha = 0.3)"
   ]
  },
  {
   "cell_type": "code",
   "execution_count": 99,
   "id": "891811c4",
   "metadata": {},
   "outputs": [
    {
     "data": {
      "text/html": [
       "<div>\n",
       "<style scoped>\n",
       "    .dataframe tbody tr th:only-of-type {\n",
       "        vertical-align: middle;\n",
       "    }\n",
       "\n",
       "    .dataframe tbody tr th {\n",
       "        vertical-align: top;\n",
       "    }\n",
       "\n",
       "    .dataframe thead th {\n",
       "        text-align: right;\n",
       "    }\n",
       "</style>\n",
       "<table border=\"1\" class=\"dataframe\">\n",
       "  <thead>\n",
       "    <tr style=\"text-align: right;\">\n",
       "      <th></th>\n",
       "      <th>freq</th>\n",
       "      <th>monetary</th>\n",
       "    </tr>\n",
       "  </thead>\n",
       "  <tbody>\n",
       "    <tr>\n",
       "      <th>freq</th>\n",
       "      <td>1.000000</td>\n",
       "      <td>0.947786</td>\n",
       "    </tr>\n",
       "    <tr>\n",
       "      <th>monetary</th>\n",
       "      <td>0.947786</td>\n",
       "      <td>1.000000</td>\n",
       "    </tr>\n",
       "  </tbody>\n",
       "</table>\n",
       "</div>"
      ],
      "text/plain": [
       "              freq  monetary\n",
       "freq      1.000000  0.947786\n",
       "monetary  0.947786  1.000000"
      ]
     },
     "execution_count": 99,
     "metadata": {},
     "output_type": "execute_result"
    }
   ],
   "source": [
    "rfm_customer[['freq', 'monetary']].corr(method = 'pearson')"
   ]
  },
  {
   "cell_type": "code",
   "execution_count": 100,
   "id": "a56bc045",
   "metadata": {},
   "outputs": [],
   "source": [
    "rfm_customer_2 = rfm_customer.loc[:, ['freq', 'recency']]"
   ]
  },
  {
   "cell_type": "code",
   "execution_count": 101,
   "id": "76050b1f",
   "metadata": {},
   "outputs": [
    {
     "data": {
      "text/html": [
       "<div>\n",
       "<style scoped>\n",
       "    .dataframe tbody tr th:only-of-type {\n",
       "        vertical-align: middle;\n",
       "    }\n",
       "\n",
       "    .dataframe tbody tr th {\n",
       "        vertical-align: top;\n",
       "    }\n",
       "\n",
       "    .dataframe thead th {\n",
       "        text-align: right;\n",
       "    }\n",
       "</style>\n",
       "<table border=\"1\" class=\"dataframe\">\n",
       "  <thead>\n",
       "    <tr style=\"text-align: right;\">\n",
       "      <th></th>\n",
       "      <th>freq</th>\n",
       "      <th>recency</th>\n",
       "    </tr>\n",
       "    <tr>\n",
       "      <th>customer_id</th>\n",
       "      <th></th>\n",
       "      <th></th>\n",
       "    </tr>\n",
       "  </thead>\n",
       "  <tbody>\n",
       "    <tr>\n",
       "      <th>5.94687E+23</th>\n",
       "      <td>2</td>\n",
       "      <td>9</td>\n",
       "    </tr>\n",
       "    <tr>\n",
       "      <th>5.94772E+23</th>\n",
       "      <td>1</td>\n",
       "      <td>64</td>\n",
       "    </tr>\n",
       "    <tr>\n",
       "      <th>5.94773E+23</th>\n",
       "      <td>5</td>\n",
       "      <td>9</td>\n",
       "    </tr>\n",
       "    <tr>\n",
       "      <th>5.95E+25</th>\n",
       "      <td>1</td>\n",
       "      <td>5</td>\n",
       "    </tr>\n",
       "    <tr>\n",
       "      <th>58a4b0e452faff000179dbd0</th>\n",
       "      <td>7</td>\n",
       "      <td>7</td>\n",
       "    </tr>\n",
       "    <tr>\n",
       "      <th>...</th>\n",
       "      <td>...</td>\n",
       "      <td>...</td>\n",
       "    </tr>\n",
       "    <tr>\n",
       "      <th>5d3584f8b2cf38d2d17aafba</th>\n",
       "      <td>1</td>\n",
       "      <td>1</td>\n",
       "    </tr>\n",
       "    <tr>\n",
       "      <th>5d359600b2cf38d2d17ac0e7</th>\n",
       "      <td>1</td>\n",
       "      <td>1</td>\n",
       "    </tr>\n",
       "    <tr>\n",
       "      <th>5d35a06bb2cf38d2d17acbc3</th>\n",
       "      <td>1</td>\n",
       "      <td>1</td>\n",
       "    </tr>\n",
       "    <tr>\n",
       "      <th>5d35ae07b2cf38d2d17adb54</th>\n",
       "      <td>1</td>\n",
       "      <td>1</td>\n",
       "    </tr>\n",
       "    <tr>\n",
       "      <th>5d35cf29b2cf38d2d17afcda</th>\n",
       "      <td>1</td>\n",
       "      <td>1</td>\n",
       "    </tr>\n",
       "  </tbody>\n",
       "</table>\n",
       "<p>14964 rows × 2 columns</p>\n",
       "</div>"
      ],
      "text/plain": [
       "                          freq  recency\n",
       "customer_id                            \n",
       "5.94687E+23                  2        9\n",
       "5.94772E+23                  1       64\n",
       "5.94773E+23                  5        9\n",
       "5.95E+25                     1        5\n",
       "58a4b0e452faff000179dbd0     7        7\n",
       "...                        ...      ...\n",
       "5d3584f8b2cf38d2d17aafba     1        1\n",
       "5d359600b2cf38d2d17ac0e7     1        1\n",
       "5d35a06bb2cf38d2d17acbc3     1        1\n",
       "5d35ae07b2cf38d2d17adb54     1        1\n",
       "5d35cf29b2cf38d2d17afcda     1        1\n",
       "\n",
       "[14964 rows x 2 columns]"
      ]
     },
     "execution_count": 101,
     "metadata": {},
     "output_type": "execute_result"
    }
   ],
   "source": [
    "rfm_customer_2"
   ]
  },
  {
   "cell_type": "code",
   "execution_count": 102,
   "id": "57163bf5",
   "metadata": {},
   "outputs": [],
   "source": [
    "#Scale features\n",
    "from sklearn.preprocessing import StandardScaler"
   ]
  },
  {
   "cell_type": "code",
   "execution_count": 103,
   "id": "ff3601fd",
   "metadata": {},
   "outputs": [
    {
     "data": {
      "text/plain": [
       "array([[-0.20698004, -0.69726072],\n",
       "       [-0.49892549,  1.08659584],\n",
       "       [ 0.66885632, -0.69726072],\n",
       "       ...,\n",
       "       [-0.49892549, -0.95673077],\n",
       "       [-0.49892549, -0.95673077],\n",
       "       [-0.49892549, -0.95673077]])"
      ]
     },
     "execution_count": 103,
     "metadata": {},
     "output_type": "execute_result"
    }
   ],
   "source": [
    "scaled_data = StandardScaler().fit_transform(rfm_customer_2)\n",
    "scaled_data"
   ]
  },
  {
   "cell_type": "code",
   "execution_count": 104,
   "id": "4ee5452d",
   "metadata": {},
   "outputs": [
    {
     "data": {
      "text/html": [
       "<div>\n",
       "<style scoped>\n",
       "    .dataframe tbody tr th:only-of-type {\n",
       "        vertical-align: middle;\n",
       "    }\n",
       "\n",
       "    .dataframe tbody tr th {\n",
       "        vertical-align: top;\n",
       "    }\n",
       "\n",
       "    .dataframe thead th {\n",
       "        text-align: right;\n",
       "    }\n",
       "</style>\n",
       "<table border=\"1\" class=\"dataframe\">\n",
       "  <thead>\n",
       "    <tr style=\"text-align: right;\">\n",
       "      <th></th>\n",
       "      <th>freq</th>\n",
       "      <th>recency</th>\n",
       "    </tr>\n",
       "    <tr>\n",
       "      <th>customer_id</th>\n",
       "      <th></th>\n",
       "      <th></th>\n",
       "    </tr>\n",
       "  </thead>\n",
       "  <tbody>\n",
       "    <tr>\n",
       "      <th>5.94687E+23</th>\n",
       "      <td>-0.206980</td>\n",
       "      <td>-0.697261</td>\n",
       "    </tr>\n",
       "    <tr>\n",
       "      <th>5.94772E+23</th>\n",
       "      <td>-0.498925</td>\n",
       "      <td>1.086596</td>\n",
       "    </tr>\n",
       "    <tr>\n",
       "      <th>5.94773E+23</th>\n",
       "      <td>0.668856</td>\n",
       "      <td>-0.697261</td>\n",
       "    </tr>\n",
       "    <tr>\n",
       "      <th>5.95E+25</th>\n",
       "      <td>-0.498925</td>\n",
       "      <td>-0.826996</td>\n",
       "    </tr>\n",
       "    <tr>\n",
       "      <th>58a4b0e452faff000179dbd0</th>\n",
       "      <td>1.252747</td>\n",
       "      <td>-0.762128</td>\n",
       "    </tr>\n",
       "    <tr>\n",
       "      <th>...</th>\n",
       "      <td>...</td>\n",
       "      <td>...</td>\n",
       "    </tr>\n",
       "    <tr>\n",
       "      <th>5d3584f8b2cf38d2d17aafba</th>\n",
       "      <td>-0.498925</td>\n",
       "      <td>-0.956731</td>\n",
       "    </tr>\n",
       "    <tr>\n",
       "      <th>5d359600b2cf38d2d17ac0e7</th>\n",
       "      <td>-0.498925</td>\n",
       "      <td>-0.956731</td>\n",
       "    </tr>\n",
       "    <tr>\n",
       "      <th>5d35a06bb2cf38d2d17acbc3</th>\n",
       "      <td>-0.498925</td>\n",
       "      <td>-0.956731</td>\n",
       "    </tr>\n",
       "    <tr>\n",
       "      <th>5d35ae07b2cf38d2d17adb54</th>\n",
       "      <td>-0.498925</td>\n",
       "      <td>-0.956731</td>\n",
       "    </tr>\n",
       "    <tr>\n",
       "      <th>5d35cf29b2cf38d2d17afcda</th>\n",
       "      <td>-0.498925</td>\n",
       "      <td>-0.956731</td>\n",
       "    </tr>\n",
       "  </tbody>\n",
       "</table>\n",
       "<p>14964 rows × 2 columns</p>\n",
       "</div>"
      ],
      "text/plain": [
       "                              freq   recency\n",
       "customer_id                                 \n",
       "5.94687E+23              -0.206980 -0.697261\n",
       "5.94772E+23              -0.498925  1.086596\n",
       "5.94773E+23               0.668856 -0.697261\n",
       "5.95E+25                 -0.498925 -0.826996\n",
       "58a4b0e452faff000179dbd0  1.252747 -0.762128\n",
       "...                            ...       ...\n",
       "5d3584f8b2cf38d2d17aafba -0.498925 -0.956731\n",
       "5d359600b2cf38d2d17ac0e7 -0.498925 -0.956731\n",
       "5d35a06bb2cf38d2d17acbc3 -0.498925 -0.956731\n",
       "5d35ae07b2cf38d2d17adb54 -0.498925 -0.956731\n",
       "5d35cf29b2cf38d2d17afcda -0.498925 -0.956731\n",
       "\n",
       "[14964 rows x 2 columns]"
      ]
     },
     "execution_count": 104,
     "metadata": {},
     "output_type": "execute_result"
    }
   ],
   "source": [
    "scaled_data = pd.DataFrame(scaled_data, \n",
    "                           columns = rfm_customer_2.columns, \n",
    "                           index = rfm_customer_2.index)\n",
    "\n",
    "scaled_data"
   ]
  },
  {
   "cell_type": "code",
   "execution_count": 105,
   "id": "1c2b3f74",
   "metadata": {},
   "outputs": [
    {
     "data": {
      "text/html": [
       "<div>\n",
       "<style scoped>\n",
       "    .dataframe tbody tr th:only-of-type {\n",
       "        vertical-align: middle;\n",
       "    }\n",
       "\n",
       "    .dataframe tbody tr th {\n",
       "        vertical-align: top;\n",
       "    }\n",
       "\n",
       "    .dataframe thead th {\n",
       "        text-align: right;\n",
       "    }\n",
       "</style>\n",
       "<table border=\"1\" class=\"dataframe\">\n",
       "  <thead>\n",
       "    <tr style=\"text-align: right;\">\n",
       "      <th></th>\n",
       "      <th>freq</th>\n",
       "      <th>recency</th>\n",
       "    </tr>\n",
       "  </thead>\n",
       "  <tbody>\n",
       "    <tr>\n",
       "      <th>count</th>\n",
       "      <td>1.496400e+04</td>\n",
       "      <td>1.496400e+04</td>\n",
       "    </tr>\n",
       "    <tr>\n",
       "      <th>mean</th>\n",
       "      <td>2.659075e-17</td>\n",
       "      <td>-1.139603e-17</td>\n",
       "    </tr>\n",
       "    <tr>\n",
       "      <th>std</th>\n",
       "      <td>1.000033e+00</td>\n",
       "      <td>1.000033e+00</td>\n",
       "    </tr>\n",
       "    <tr>\n",
       "      <th>min</th>\n",
       "      <td>-4.989255e-01</td>\n",
       "      <td>-9.567308e-01</td>\n",
       "    </tr>\n",
       "    <tr>\n",
       "      <th>25%</th>\n",
       "      <td>-4.989255e-01</td>\n",
       "      <td>-7.621282e-01</td>\n",
       "    </tr>\n",
       "    <tr>\n",
       "      <th>50%</th>\n",
       "      <td>-4.989255e-01</td>\n",
       "      <td>-3.729232e-01</td>\n",
       "    </tr>\n",
       "    <tr>\n",
       "      <th>75%</th>\n",
       "      <td>8.496541e-02</td>\n",
       "      <td>4.054870e-01</td>\n",
       "    </tr>\n",
       "    <tr>\n",
       "      <th>max</th>\n",
       "      <td>1.701780e+01</td>\n",
       "      <td>3.032621e+00</td>\n",
       "    </tr>\n",
       "  </tbody>\n",
       "</table>\n",
       "</div>"
      ],
      "text/plain": [
       "               freq       recency\n",
       "count  1.496400e+04  1.496400e+04\n",
       "mean   2.659075e-17 -1.139603e-17\n",
       "std    1.000033e+00  1.000033e+00\n",
       "min   -4.989255e-01 -9.567308e-01\n",
       "25%   -4.989255e-01 -7.621282e-01\n",
       "50%   -4.989255e-01 -3.729232e-01\n",
       "75%    8.496541e-02  4.054870e-01\n",
       "max    1.701780e+01  3.032621e+00"
      ]
     },
     "execution_count": 105,
     "metadata": {},
     "output_type": "execute_result"
    }
   ],
   "source": [
    "scaled_data.describe()"
   ]
  },
  {
   "cell_type": "markdown",
   "id": "9417a1ad",
   "metadata": {},
   "source": [
    "## K-means Clustering"
   ]
  },
  {
   "cell_type": "code",
   "execution_count": 106,
   "id": "280da0ce",
   "metadata": {},
   "outputs": [],
   "source": [
    "#First try\n",
    "from sklearn.cluster import KMeans\n",
    "seg_km1 = KMeans(n_clusters = 5, \n",
    "                 init = 'random', \n",
    "                 random_state = 123, \n",
    "                 n_init = 1).fit(scaled_data)"
   ]
  },
  {
   "cell_type": "code",
   "execution_count": 107,
   "id": "70410727",
   "metadata": {},
   "outputs": [
    {
     "data": {
      "text/html": [
       "<div>\n",
       "<style scoped>\n",
       "    .dataframe tbody tr th:only-of-type {\n",
       "        vertical-align: middle;\n",
       "    }\n",
       "\n",
       "    .dataframe tbody tr th {\n",
       "        vertical-align: top;\n",
       "    }\n",
       "\n",
       "    .dataframe thead th {\n",
       "        text-align: right;\n",
       "    }\n",
       "</style>\n",
       "<table border=\"1\" class=\"dataframe\">\n",
       "  <thead>\n",
       "    <tr style=\"text-align: right;\">\n",
       "      <th></th>\n",
       "      <th>freq</th>\n",
       "      <th>recency</th>\n",
       "      <th>monetary</th>\n",
       "      <th>seg_km1</th>\n",
       "    </tr>\n",
       "    <tr>\n",
       "      <th>customer_id</th>\n",
       "      <th></th>\n",
       "      <th></th>\n",
       "      <th></th>\n",
       "      <th></th>\n",
       "    </tr>\n",
       "  </thead>\n",
       "  <tbody>\n",
       "    <tr>\n",
       "      <th>5.94687E+23</th>\n",
       "      <td>2</td>\n",
       "      <td>9</td>\n",
       "      <td>680000.0</td>\n",
       "      <td>0</td>\n",
       "    </tr>\n",
       "    <tr>\n",
       "      <th>5.94772E+23</th>\n",
       "      <td>1</td>\n",
       "      <td>64</td>\n",
       "      <td>600000.0</td>\n",
       "      <td>2</td>\n",
       "    </tr>\n",
       "    <tr>\n",
       "      <th>5.94773E+23</th>\n",
       "      <td>5</td>\n",
       "      <td>9</td>\n",
       "      <td>1700000.0</td>\n",
       "      <td>4</td>\n",
       "    </tr>\n",
       "    <tr>\n",
       "      <th>5.95E+25</th>\n",
       "      <td>1</td>\n",
       "      <td>5</td>\n",
       "      <td>320000.0</td>\n",
       "      <td>0</td>\n",
       "    </tr>\n",
       "    <tr>\n",
       "      <th>58a4b0e452faff000179dbd0</th>\n",
       "      <td>7</td>\n",
       "      <td>7</td>\n",
       "      <td>1480000.0</td>\n",
       "      <td>4</td>\n",
       "    </tr>\n",
       "    <tr>\n",
       "      <th>...</th>\n",
       "      <td>...</td>\n",
       "      <td>...</td>\n",
       "      <td>...</td>\n",
       "      <td>...</td>\n",
       "    </tr>\n",
       "    <tr>\n",
       "      <th>5d3584f8b2cf38d2d17aafba</th>\n",
       "      <td>1</td>\n",
       "      <td>1</td>\n",
       "      <td>200000.0</td>\n",
       "      <td>0</td>\n",
       "    </tr>\n",
       "    <tr>\n",
       "      <th>5d359600b2cf38d2d17ac0e7</th>\n",
       "      <td>1</td>\n",
       "      <td>1</td>\n",
       "      <td>520000.0</td>\n",
       "      <td>0</td>\n",
       "    </tr>\n",
       "    <tr>\n",
       "      <th>5d35a06bb2cf38d2d17acbc3</th>\n",
       "      <td>1</td>\n",
       "      <td>1</td>\n",
       "      <td>440000.0</td>\n",
       "      <td>0</td>\n",
       "    </tr>\n",
       "    <tr>\n",
       "      <th>5d35ae07b2cf38d2d17adb54</th>\n",
       "      <td>1</td>\n",
       "      <td>1</td>\n",
       "      <td>200000.0</td>\n",
       "      <td>0</td>\n",
       "    </tr>\n",
       "    <tr>\n",
       "      <th>5d35cf29b2cf38d2d17afcda</th>\n",
       "      <td>1</td>\n",
       "      <td>1</td>\n",
       "      <td>420000.0</td>\n",
       "      <td>0</td>\n",
       "    </tr>\n",
       "  </tbody>\n",
       "</table>\n",
       "<p>14964 rows × 4 columns</p>\n",
       "</div>"
      ],
      "text/plain": [
       "                          freq  recency   monetary  seg_km1\n",
       "customer_id                                                \n",
       "5.94687E+23                  2        9   680000.0        0\n",
       "5.94772E+23                  1       64   600000.0        2\n",
       "5.94773E+23                  5        9  1700000.0        4\n",
       "5.95E+25                     1        5   320000.0        0\n",
       "58a4b0e452faff000179dbd0     7        7  1480000.0        4\n",
       "...                        ...      ...        ...      ...\n",
       "5d3584f8b2cf38d2d17aafba     1        1   200000.0        0\n",
       "5d359600b2cf38d2d17ac0e7     1        1   520000.0        0\n",
       "5d35a06bb2cf38d2d17acbc3     1        1   440000.0        0\n",
       "5d35ae07b2cf38d2d17adb54     1        1   200000.0        0\n",
       "5d35cf29b2cf38d2d17afcda     1        1   420000.0        0\n",
       "\n",
       "[14964 rows x 4 columns]"
      ]
     },
     "execution_count": 107,
     "metadata": {},
     "output_type": "execute_result"
    }
   ],
   "source": [
    "rfm_customer['seg_km1'] = seg_km1.predict(scaled_data)\n",
    "rfm_customer"
   ]
  },
  {
   "cell_type": "code",
   "execution_count": 108,
   "id": "3d8c6440",
   "metadata": {},
   "outputs": [
    {
     "data": {
      "text/plain": [
       "0"
      ]
     },
     "execution_count": 108,
     "metadata": {},
     "output_type": "execute_result"
    }
   ],
   "source": [
    "rfm_customer['seg_km1'].isnull().sum()"
   ]
  },
  {
   "cell_type": "code",
   "execution_count": 109,
   "id": "b73f9506",
   "metadata": {},
   "outputs": [
    {
     "data": {
      "text/html": [
       "<div>\n",
       "<style scoped>\n",
       "    .dataframe tbody tr th:only-of-type {\n",
       "        vertical-align: middle;\n",
       "    }\n",
       "\n",
       "    .dataframe tbody tr th {\n",
       "        vertical-align: top;\n",
       "    }\n",
       "\n",
       "    .dataframe thead th {\n",
       "        text-align: right;\n",
       "    }\n",
       "</style>\n",
       "<table border=\"1\" class=\"dataframe\">\n",
       "  <thead>\n",
       "    <tr style=\"text-align: right;\">\n",
       "      <th></th>\n",
       "      <th>freq</th>\n",
       "      <th>recency</th>\n",
       "      <th>monetary</th>\n",
       "    </tr>\n",
       "    <tr>\n",
       "      <th>seg_km1</th>\n",
       "      <th></th>\n",
       "      <th></th>\n",
       "      <th></th>\n",
       "    </tr>\n",
       "  </thead>\n",
       "  <tbody>\n",
       "    <tr>\n",
       "      <th>0</th>\n",
       "      <td>1.600363</td>\n",
       "      <td>9.873286</td>\n",
       "      <td>5.718949e+05</td>\n",
       "    </tr>\n",
       "    <tr>\n",
       "      <th>1</th>\n",
       "      <td>15.992832</td>\n",
       "      <td>9.996416</td>\n",
       "      <td>5.461541e+06</td>\n",
       "    </tr>\n",
       "    <tr>\n",
       "      <th>2</th>\n",
       "      <td>1.512330</td>\n",
       "      <td>40.665558</td>\n",
       "      <td>5.341036e+05</td>\n",
       "    </tr>\n",
       "    <tr>\n",
       "      <th>3</th>\n",
       "      <td>1.288755</td>\n",
       "      <td>88.822892</td>\n",
       "      <td>4.376867e+05</td>\n",
       "    </tr>\n",
       "    <tr>\n",
       "      <th>4</th>\n",
       "      <td>5.882431</td>\n",
       "      <td>10.248447</td>\n",
       "      <td>2.046477e+06</td>\n",
       "    </tr>\n",
       "  </tbody>\n",
       "</table>\n",
       "</div>"
      ],
      "text/plain": [
       "              freq    recency      monetary\n",
       "seg_km1                                    \n",
       "0         1.600363   9.873286  5.718949e+05\n",
       "1        15.992832   9.996416  5.461541e+06\n",
       "2         1.512330  40.665558  5.341036e+05\n",
       "3         1.288755  88.822892  4.376867e+05\n",
       "4         5.882431  10.248447  2.046477e+06"
      ]
     },
     "execution_count": 109,
     "metadata": {},
     "output_type": "execute_result"
    }
   ],
   "source": [
    "#Results\n",
    "rfm_customer.groupby(['seg_km1'])[['freq', 'recency', 'monetary']].mean()"
   ]
  },
  {
   "cell_type": "code",
   "execution_count": 110,
   "id": "496937bf",
   "metadata": {},
   "outputs": [
    {
     "data": {
      "image/png": "[encoded data removed]",
      "text/plain": [
       "<Figure size 640x480 with 1 Axes>"
      ]
     },
     "metadata": {},
     "output_type": "display_data"
    }
   ],
   "source": [
    "#Scatter Plot - First Try\n",
    "plt.scatter(x = rfm_customer['freq'], \n",
    "            y = rfm_customer['recency'], \n",
    "            c = rfm_customer['seg_km1'], alpha = 0.3)\n",
    "plt.xlabel('freq')\n",
    "plt.ylabel('recency')\n",
    "plt.title('First Try - Kmeans')\n",
    "plt.show()"
   ]
  },
  {
   "cell_type": "code",
   "execution_count": 111,
   "id": "673e10de",
   "metadata": {},
   "outputs": [],
   "source": [
    "#Second try\n",
    "from sklearn.cluster import KMeans\n",
    "seg_km2 = KMeans(n_clusters = 5, \n",
    "                 init = 'random', \n",
    "                 random_state = 1000, \n",
    "                 n_init = 1).fit(scaled_data)"
   ]
  },
  {
   "cell_type": "code",
   "execution_count": 112,
   "id": "1bd45b73",
   "metadata": {},
   "outputs": [
    {
     "data": {
      "text/html": [
       "<div>\n",
       "<style scoped>\n",
       "    .dataframe tbody tr th:only-of-type {\n",
       "        vertical-align: middle;\n",
       "    }\n",
       "\n",
       "    .dataframe tbody tr th {\n",
       "        vertical-align: top;\n",
       "    }\n",
       "\n",
       "    .dataframe thead th {\n",
       "        text-align: right;\n",
       "    }\n",
       "</style>\n",
       "<table border=\"1\" class=\"dataframe\">\n",
       "  <thead>\n",
       "    <tr style=\"text-align: right;\">\n",
       "      <th></th>\n",
       "      <th>freq</th>\n",
       "      <th>recency</th>\n",
       "      <th>monetary</th>\n",
       "      <th>seg_km1</th>\n",
       "      <th>seg_km2</th>\n",
       "    </tr>\n",
       "    <tr>\n",
       "      <th>customer_id</th>\n",
       "      <th></th>\n",
       "      <th></th>\n",
       "      <th></th>\n",
       "      <th></th>\n",
       "      <th></th>\n",
       "    </tr>\n",
       "  </thead>\n",
       "  <tbody>\n",
       "    <tr>\n",
       "      <th>5.94687E+23</th>\n",
       "      <td>2</td>\n",
       "      <td>9</td>\n",
       "      <td>680000.0</td>\n",
       "      <td>0</td>\n",
       "      <td>3</td>\n",
       "    </tr>\n",
       "    <tr>\n",
       "      <th>5.94772E+23</th>\n",
       "      <td>1</td>\n",
       "      <td>64</td>\n",
       "      <td>600000.0</td>\n",
       "      <td>2</td>\n",
       "      <td>4</td>\n",
       "    </tr>\n",
       "    <tr>\n",
       "      <th>5.94773E+23</th>\n",
       "      <td>5</td>\n",
       "      <td>9</td>\n",
       "      <td>1700000.0</td>\n",
       "      <td>4</td>\n",
       "      <td>2</td>\n",
       "    </tr>\n",
       "    <tr>\n",
       "      <th>5.95E+25</th>\n",
       "      <td>1</td>\n",
       "      <td>5</td>\n",
       "      <td>320000.0</td>\n",
       "      <td>0</td>\n",
       "      <td>3</td>\n",
       "    </tr>\n",
       "    <tr>\n",
       "      <th>58a4b0e452faff000179dbd0</th>\n",
       "      <td>7</td>\n",
       "      <td>7</td>\n",
       "      <td>1480000.0</td>\n",
       "      <td>4</td>\n",
       "      <td>2</td>\n",
       "    </tr>\n",
       "    <tr>\n",
       "      <th>...</th>\n",
       "      <td>...</td>\n",
       "      <td>...</td>\n",
       "      <td>...</td>\n",
       "      <td>...</td>\n",
       "      <td>...</td>\n",
       "    </tr>\n",
       "    <tr>\n",
       "      <th>5d3584f8b2cf38d2d17aafba</th>\n",
       "      <td>1</td>\n",
       "      <td>1</td>\n",
       "      <td>200000.0</td>\n",
       "      <td>0</td>\n",
       "      <td>3</td>\n",
       "    </tr>\n",
       "    <tr>\n",
       "      <th>5d359600b2cf38d2d17ac0e7</th>\n",
       "      <td>1</td>\n",
       "      <td>1</td>\n",
       "      <td>520000.0</td>\n",
       "      <td>0</td>\n",
       "      <td>3</td>\n",
       "    </tr>\n",
       "    <tr>\n",
       "      <th>5d35a06bb2cf38d2d17acbc3</th>\n",
       "      <td>1</td>\n",
       "      <td>1</td>\n",
       "      <td>440000.0</td>\n",
       "      <td>0</td>\n",
       "      <td>3</td>\n",
       "    </tr>\n",
       "    <tr>\n",
       "      <th>5d35ae07b2cf38d2d17adb54</th>\n",
       "      <td>1</td>\n",
       "      <td>1</td>\n",
       "      <td>200000.0</td>\n",
       "      <td>0</td>\n",
       "      <td>3</td>\n",
       "    </tr>\n",
       "    <tr>\n",
       "      <th>5d35cf29b2cf38d2d17afcda</th>\n",
       "      <td>1</td>\n",
       "      <td>1</td>\n",
       "      <td>420000.0</td>\n",
       "      <td>0</td>\n",
       "      <td>3</td>\n",
       "    </tr>\n",
       "  </tbody>\n",
       "</table>\n",
       "<p>14964 rows × 5 columns</p>\n",
       "</div>"
      ],
      "text/plain": [
       "                          freq  recency   monetary  seg_km1  seg_km2\n",
       "customer_id                                                         \n",
       "5.94687E+23                  2        9   680000.0        0        3\n",
       "5.94772E+23                  1       64   600000.0        2        4\n",
       "5.94773E+23                  5        9  1700000.0        4        2\n",
       "5.95E+25                     1        5   320000.0        0        3\n",
       "58a4b0e452faff000179dbd0     7        7  1480000.0        4        2\n",
       "...                        ...      ...        ...      ...      ...\n",
       "5d3584f8b2cf38d2d17aafba     1        1   200000.0        0        3\n",
       "5d359600b2cf38d2d17ac0e7     1        1   520000.0        0        3\n",
       "5d35a06bb2cf38d2d17acbc3     1        1   440000.0        0        3\n",
       "5d35ae07b2cf38d2d17adb54     1        1   200000.0        0        3\n",
       "5d35cf29b2cf38d2d17afcda     1        1   420000.0        0        3\n",
       "\n",
       "[14964 rows x 5 columns]"
      ]
     },
     "execution_count": 112,
     "metadata": {},
     "output_type": "execute_result"
    }
   ],
   "source": [
    "rfm_customer['seg_km2'] = seg_km2.predict(scaled_data)\n",
    "rfm_customer"
   ]
  },
  {
   "cell_type": "code",
   "execution_count": 113,
   "id": "c29e9228",
   "metadata": {},
   "outputs": [
    {
     "data": {
      "text/html": [
       "<div>\n",
       "<style scoped>\n",
       "    .dataframe tbody tr th:only-of-type {\n",
       "        vertical-align: middle;\n",
       "    }\n",
       "\n",
       "    .dataframe tbody tr th {\n",
       "        vertical-align: top;\n",
       "    }\n",
       "\n",
       "    .dataframe thead th {\n",
       "        text-align: right;\n",
       "    }\n",
       "</style>\n",
       "<table border=\"1\" class=\"dataframe\">\n",
       "  <thead>\n",
       "    <tr style=\"text-align: right;\">\n",
       "      <th></th>\n",
       "      <th>freq</th>\n",
       "      <th>recency</th>\n",
       "      <th>monetary</th>\n",
       "    </tr>\n",
       "    <tr>\n",
       "      <th>seg_km2</th>\n",
       "      <th></th>\n",
       "      <th></th>\n",
       "      <th></th>\n",
       "    </tr>\n",
       "  </thead>\n",
       "  <tbody>\n",
       "    <tr>\n",
       "      <th>0</th>\n",
       "      <td>16.001795</td>\n",
       "      <td>9.861759</td>\n",
       "      <td>5.464201e+06</td>\n",
       "    </tr>\n",
       "    <tr>\n",
       "      <th>1</th>\n",
       "      <td>1.297686</td>\n",
       "      <td>88.679170</td>\n",
       "      <td>4.410694e+05</td>\n",
       "    </tr>\n",
       "    <tr>\n",
       "      <th>2</th>\n",
       "      <td>5.889978</td>\n",
       "      <td>10.173274</td>\n",
       "      <td>2.049149e+06</td>\n",
       "    </tr>\n",
       "    <tr>\n",
       "      <th>3</th>\n",
       "      <td>1.600363</td>\n",
       "      <td>9.873286</td>\n",
       "      <td>5.718949e+05</td>\n",
       "    </tr>\n",
       "    <tr>\n",
       "      <th>4</th>\n",
       "      <td>1.515959</td>\n",
       "      <td>40.534832</td>\n",
       "      <td>5.352484e+05</td>\n",
       "    </tr>\n",
       "  </tbody>\n",
       "</table>\n",
       "</div>"
      ],
      "text/plain": [
       "              freq    recency      monetary\n",
       "seg_km2                                    \n",
       "0        16.001795   9.861759  5.464201e+06\n",
       "1         1.297686  88.679170  4.410694e+05\n",
       "2         5.889978  10.173274  2.049149e+06\n",
       "3         1.600363   9.873286  5.718949e+05\n",
       "4         1.515959  40.534832  5.352484e+05"
      ]
     },
     "execution_count": 113,
     "metadata": {},
     "output_type": "execute_result"
    }
   ],
   "source": [
    "#Results\n",
    "rfm_customer.groupby(['seg_km2'])[['freq', 'recency', 'monetary']].mean()"
   ]
  },
  {
   "cell_type": "code",
   "execution_count": 114,
   "id": "4738aeeb",
   "metadata": {},
   "outputs": [
    {
     "data": {
      "image/png": "[encoded data removed]",
      "text/plain": [
       "<Figure size 640x480 with 1 Axes>"
      ]
     },
     "metadata": {},
     "output_type": "display_data"
    }
   ],
   "source": [
    "#Scatter Plot - Second Try\n",
    "plt.scatter(x = rfm_customer['freq'], \n",
    "            y = rfm_customer['recency'], \n",
    "            c = rfm_customer['seg_km2'], alpha = 0.3)\n",
    "plt.xlabel('freq')\n",
    "plt.ylabel('recency')\n",
    "plt.title('Second Try - Kmeans')\n",
    "plt.show()"
   ]
  },
  {
   "cell_type": "markdown",
   "id": "6038cbd6",
   "metadata": {},
   "source": [
    "## K-means ++"
   ]
  },
  {
   "cell_type": "markdown",
   "id": "9277d247",
   "metadata": {},
   "source": [
    "n_init: sets the number of initializations to perform. \n",
    "The default behavior for the scikit-learn algorithm is to perform ten k-means runs and return the results of the one with the lowest SSE."
   ]
  },
  {
   "cell_type": "code",
   "execution_count": 115,
   "id": "0de64a10",
   "metadata": {},
   "outputs": [],
   "source": [
    "#First Try\n",
    "from sklearn.cluster import KMeans\n",
    "seg_km3 = KMeans(n_clusters = 5, \n",
    "                 init = 'k-means++', \n",
    "                 random_state = 1000, \n",
    "                 n_init = 15).fit(scaled_data)"
   ]
  },
  {
   "cell_type": "code",
   "execution_count": 116,
   "id": "7c9ab554",
   "metadata": {},
   "outputs": [
    {
     "data": {
      "text/html": [
       "<div>\n",
       "<style scoped>\n",
       "    .dataframe tbody tr th:only-of-type {\n",
       "        vertical-align: middle;\n",
       "    }\n",
       "\n",
       "    .dataframe tbody tr th {\n",
       "        vertical-align: top;\n",
       "    }\n",
       "\n",
       "    .dataframe thead th {\n",
       "        text-align: right;\n",
       "    }\n",
       "</style>\n",
       "<table border=\"1\" class=\"dataframe\">\n",
       "  <thead>\n",
       "    <tr style=\"text-align: right;\">\n",
       "      <th></th>\n",
       "      <th>freq</th>\n",
       "      <th>recency</th>\n",
       "      <th>monetary</th>\n",
       "      <th>seg_km1</th>\n",
       "      <th>seg_km2</th>\n",
       "      <th>seg_km3</th>\n",
       "    </tr>\n",
       "    <tr>\n",
       "      <th>customer_id</th>\n",
       "      <th></th>\n",
       "      <th></th>\n",
       "      <th></th>\n",
       "      <th></th>\n",
       "      <th></th>\n",
       "      <th></th>\n",
       "    </tr>\n",
       "  </thead>\n",
       "  <tbody>\n",
       "    <tr>\n",
       "      <th>5.94687E+23</th>\n",
       "      <td>2</td>\n",
       "      <td>9</td>\n",
       "      <td>680000.0</td>\n",
       "      <td>0</td>\n",
       "      <td>3</td>\n",
       "      <td>0</td>\n",
       "    </tr>\n",
       "    <tr>\n",
       "      <th>5.94772E+23</th>\n",
       "      <td>1</td>\n",
       "      <td>64</td>\n",
       "      <td>600000.0</td>\n",
       "      <td>2</td>\n",
       "      <td>4</td>\n",
       "      <td>4</td>\n",
       "    </tr>\n",
       "    <tr>\n",
       "      <th>5.94773E+23</th>\n",
       "      <td>5</td>\n",
       "      <td>9</td>\n",
       "      <td>1700000.0</td>\n",
       "      <td>4</td>\n",
       "      <td>2</td>\n",
       "      <td>1</td>\n",
       "    </tr>\n",
       "    <tr>\n",
       "      <th>5.95E+25</th>\n",
       "      <td>1</td>\n",
       "      <td>5</td>\n",
       "      <td>320000.0</td>\n",
       "      <td>0</td>\n",
       "      <td>3</td>\n",
       "      <td>0</td>\n",
       "    </tr>\n",
       "    <tr>\n",
       "      <th>58a4b0e452faff000179dbd0</th>\n",
       "      <td>7</td>\n",
       "      <td>7</td>\n",
       "      <td>1480000.0</td>\n",
       "      <td>4</td>\n",
       "      <td>2</td>\n",
       "      <td>1</td>\n",
       "    </tr>\n",
       "    <tr>\n",
       "      <th>...</th>\n",
       "      <td>...</td>\n",
       "      <td>...</td>\n",
       "      <td>...</td>\n",
       "      <td>...</td>\n",
       "      <td>...</td>\n",
       "      <td>...</td>\n",
       "    </tr>\n",
       "    <tr>\n",
       "      <th>5d3584f8b2cf38d2d17aafba</th>\n",
       "      <td>1</td>\n",
       "      <td>1</td>\n",
       "      <td>200000.0</td>\n",
       "      <td>0</td>\n",
       "      <td>3</td>\n",
       "      <td>0</td>\n",
       "    </tr>\n",
       "    <tr>\n",
       "      <th>5d359600b2cf38d2d17ac0e7</th>\n",
       "      <td>1</td>\n",
       "      <td>1</td>\n",
       "      <td>520000.0</td>\n",
       "      <td>0</td>\n",
       "      <td>3</td>\n",
       "      <td>0</td>\n",
       "    </tr>\n",
       "    <tr>\n",
       "      <th>5d35a06bb2cf38d2d17acbc3</th>\n",
       "      <td>1</td>\n",
       "      <td>1</td>\n",
       "      <td>440000.0</td>\n",
       "      <td>0</td>\n",
       "      <td>3</td>\n",
       "      <td>0</td>\n",
       "    </tr>\n",
       "    <tr>\n",
       "      <th>5d35ae07b2cf38d2d17adb54</th>\n",
       "      <td>1</td>\n",
       "      <td>1</td>\n",
       "      <td>200000.0</td>\n",
       "      <td>0</td>\n",
       "      <td>3</td>\n",
       "      <td>0</td>\n",
       "    </tr>\n",
       "    <tr>\n",
       "      <th>5d35cf29b2cf38d2d17afcda</th>\n",
       "      <td>1</td>\n",
       "      <td>1</td>\n",
       "      <td>420000.0</td>\n",
       "      <td>0</td>\n",
       "      <td>3</td>\n",
       "      <td>0</td>\n",
       "    </tr>\n",
       "  </tbody>\n",
       "</table>\n",
       "<p>14964 rows × 6 columns</p>\n",
       "</div>"
      ],
      "text/plain": [
       "                          freq  recency   monetary  seg_km1  seg_km2  seg_km3\n",
       "customer_id                                                                  \n",
       "5.94687E+23                  2        9   680000.0        0        3        0\n",
       "5.94772E+23                  1       64   600000.0        2        4        4\n",
       "5.94773E+23                  5        9  1700000.0        4        2        1\n",
       "5.95E+25                     1        5   320000.0        0        3        0\n",
       "58a4b0e452faff000179dbd0     7        7  1480000.0        4        2        1\n",
       "...                        ...      ...        ...      ...      ...      ...\n",
       "5d3584f8b2cf38d2d17aafba     1        1   200000.0        0        3        0\n",
       "5d359600b2cf38d2d17ac0e7     1        1   520000.0        0        3        0\n",
       "5d35a06bb2cf38d2d17acbc3     1        1   440000.0        0        3        0\n",
       "5d35ae07b2cf38d2d17adb54     1        1   200000.0        0        3        0\n",
       "5d35cf29b2cf38d2d17afcda     1        1   420000.0        0        3        0\n",
       "\n",
       "[14964 rows x 6 columns]"
      ]
     },
     "execution_count": 116,
     "metadata": {},
     "output_type": "execute_result"
    }
   ],
   "source": [
    "rfm_customer['seg_km3'] = seg_km3.predict(scaled_data)\n",
    "rfm_customer"
   ]
  },
  {
   "cell_type": "code",
   "execution_count": 117,
   "id": "338dfcf0",
   "metadata": {},
   "outputs": [
    {
     "data": {
      "text/html": [
       "<div>\n",
       "<style scoped>\n",
       "    .dataframe tbody tr th:only-of-type {\n",
       "        vertical-align: middle;\n",
       "    }\n",
       "\n",
       "    .dataframe tbody tr th {\n",
       "        vertical-align: top;\n",
       "    }\n",
       "\n",
       "    .dataframe thead th {\n",
       "        text-align: right;\n",
       "    }\n",
       "</style>\n",
       "<table border=\"1\" class=\"dataframe\">\n",
       "  <thead>\n",
       "    <tr style=\"text-align: right;\">\n",
       "      <th></th>\n",
       "      <th>freq</th>\n",
       "      <th>recency</th>\n",
       "      <th>monetary</th>\n",
       "    </tr>\n",
       "    <tr>\n",
       "      <th>seg_km3</th>\n",
       "      <th></th>\n",
       "      <th></th>\n",
       "      <th></th>\n",
       "    </tr>\n",
       "  </thead>\n",
       "  <tbody>\n",
       "    <tr>\n",
       "      <th>0</th>\n",
       "      <td>1.833882</td>\n",
       "      <td>9.707273</td>\n",
       "      <td>6.540527e+05</td>\n",
       "    </tr>\n",
       "    <tr>\n",
       "      <th>1</th>\n",
       "      <td>7.409015</td>\n",
       "      <td>10.050640</td>\n",
       "      <td>2.575548e+06</td>\n",
       "    </tr>\n",
       "    <tr>\n",
       "      <th>2</th>\n",
       "      <td>1.291134</td>\n",
       "      <td>88.687300</td>\n",
       "      <td>4.391454e+05</td>\n",
       "    </tr>\n",
       "    <tr>\n",
       "      <th>3</th>\n",
       "      <td>19.317308</td>\n",
       "      <td>10.339744</td>\n",
       "      <td>6.512821e+06</td>\n",
       "    </tr>\n",
       "    <tr>\n",
       "      <th>4</th>\n",
       "      <td>1.556010</td>\n",
       "      <td>40.378305</td>\n",
       "      <td>5.475988e+05</td>\n",
       "    </tr>\n",
       "  </tbody>\n",
       "</table>\n",
       "</div>"
      ],
      "text/plain": [
       "              freq    recency      monetary\n",
       "seg_km3                                    \n",
       "0         1.833882   9.707273  6.540527e+05\n",
       "1         7.409015  10.050640  2.575548e+06\n",
       "2         1.291134  88.687300  4.391454e+05\n",
       "3        19.317308  10.339744  6.512821e+06\n",
       "4         1.556010  40.378305  5.475988e+05"
      ]
     },
     "execution_count": 117,
     "metadata": {},
     "output_type": "execute_result"
    }
   ],
   "source": [
    "#Results\n",
    "rfm_customer.groupby(['seg_km3'])[['freq', 'recency', 'monetary']].mean()"
   ]
  },
  {
   "cell_type": "code",
   "execution_count": 118,
   "id": "23338711",
   "metadata": {},
   "outputs": [
    {
     "data": {
      "image/png": "[encoded data removed]",
      "text/plain": [
       "<Figure size 640x480 with 1 Axes>"
      ]
     },
     "metadata": {},
     "output_type": "display_data"
    }
   ],
   "source": [
    "#Scatter Plot - First Try\n",
    "plt.scatter(x = rfm_customer['freq'], \n",
    "            y = rfm_customer['recency'], \n",
    "            c = rfm_customer['seg_km3'], alpha = 0.3)\n",
    "plt.xlabel('freq')\n",
    "plt.ylabel('recency')\n",
    "plt.title('First Try - Kmeans++')\n",
    "plt.show()"
   ]
  },
  {
   "cell_type": "code",
   "execution_count": 119,
   "id": "22733c25",
   "metadata": {},
   "outputs": [],
   "source": [
    "#Second Try\n",
    "from sklearn.cluster import KMeans\n",
    "seg_km4 = KMeans(n_clusters = 5, \n",
    "                 init = 'k-means++', \n",
    "                 random_state = 1234, \n",
    "                 n_init = 15).fit(scaled_data)"
   ]
  },
  {
   "cell_type": "code",
   "execution_count": 120,
   "id": "ae51191a",
   "metadata": {},
   "outputs": [
    {
     "data": {
      "text/html": [
       "<div>\n",
       "<style scoped>\n",
       "    .dataframe tbody tr th:only-of-type {\n",
       "        vertical-align: middle;\n",
       "    }\n",
       "\n",
       "    .dataframe tbody tr th {\n",
       "        vertical-align: top;\n",
       "    }\n",
       "\n",
       "    .dataframe thead th {\n",
       "        text-align: right;\n",
       "    }\n",
       "</style>\n",
       "<table border=\"1\" class=\"dataframe\">\n",
       "  <thead>\n",
       "    <tr style=\"text-align: right;\">\n",
       "      <th></th>\n",
       "      <th>freq</th>\n",
       "      <th>recency</th>\n",
       "      <th>monetary</th>\n",
       "      <th>seg_km1</th>\n",
       "      <th>seg_km2</th>\n",
       "      <th>seg_km3</th>\n",
       "      <th>seg_km4</th>\n",
       "    </tr>\n",
       "    <tr>\n",
       "      <th>customer_id</th>\n",
       "      <th></th>\n",
       "      <th></th>\n",
       "      <th></th>\n",
       "      <th></th>\n",
       "      <th></th>\n",
       "      <th></th>\n",
       "      <th></th>\n",
       "    </tr>\n",
       "  </thead>\n",
       "  <tbody>\n",
       "    <tr>\n",
       "      <th>5.94687E+23</th>\n",
       "      <td>2</td>\n",
       "      <td>9</td>\n",
       "      <td>680000.0</td>\n",
       "      <td>0</td>\n",
       "      <td>3</td>\n",
       "      <td>0</td>\n",
       "      <td>1</td>\n",
       "    </tr>\n",
       "    <tr>\n",
       "      <th>5.94772E+23</th>\n",
       "      <td>1</td>\n",
       "      <td>64</td>\n",
       "      <td>600000.0</td>\n",
       "      <td>2</td>\n",
       "      <td>4</td>\n",
       "      <td>4</td>\n",
       "      <td>0</td>\n",
       "    </tr>\n",
       "    <tr>\n",
       "      <th>5.94773E+23</th>\n",
       "      <td>5</td>\n",
       "      <td>9</td>\n",
       "      <td>1700000.0</td>\n",
       "      <td>4</td>\n",
       "      <td>2</td>\n",
       "      <td>1</td>\n",
       "      <td>2</td>\n",
       "    </tr>\n",
       "    <tr>\n",
       "      <th>5.95E+25</th>\n",
       "      <td>1</td>\n",
       "      <td>5</td>\n",
       "      <td>320000.0</td>\n",
       "      <td>0</td>\n",
       "      <td>3</td>\n",
       "      <td>0</td>\n",
       "      <td>1</td>\n",
       "    </tr>\n",
       "    <tr>\n",
       "      <th>58a4b0e452faff000179dbd0</th>\n",
       "      <td>7</td>\n",
       "      <td>7</td>\n",
       "      <td>1480000.0</td>\n",
       "      <td>4</td>\n",
       "      <td>2</td>\n",
       "      <td>1</td>\n",
       "      <td>2</td>\n",
       "    </tr>\n",
       "    <tr>\n",
       "      <th>...</th>\n",
       "      <td>...</td>\n",
       "      <td>...</td>\n",
       "      <td>...</td>\n",
       "      <td>...</td>\n",
       "      <td>...</td>\n",
       "      <td>...</td>\n",
       "      <td>...</td>\n",
       "    </tr>\n",
       "    <tr>\n",
       "      <th>5d3584f8b2cf38d2d17aafba</th>\n",
       "      <td>1</td>\n",
       "      <td>1</td>\n",
       "      <td>200000.0</td>\n",
       "      <td>0</td>\n",
       "      <td>3</td>\n",
       "      <td>0</td>\n",
       "      <td>1</td>\n",
       "    </tr>\n",
       "    <tr>\n",
       "      <th>5d359600b2cf38d2d17ac0e7</th>\n",
       "      <td>1</td>\n",
       "      <td>1</td>\n",
       "      <td>520000.0</td>\n",
       "      <td>0</td>\n",
       "      <td>3</td>\n",
       "      <td>0</td>\n",
       "      <td>1</td>\n",
       "    </tr>\n",
       "    <tr>\n",
       "      <th>5d35a06bb2cf38d2d17acbc3</th>\n",
       "      <td>1</td>\n",
       "      <td>1</td>\n",
       "      <td>440000.0</td>\n",
       "      <td>0</td>\n",
       "      <td>3</td>\n",
       "      <td>0</td>\n",
       "      <td>1</td>\n",
       "    </tr>\n",
       "    <tr>\n",
       "      <th>5d35ae07b2cf38d2d17adb54</th>\n",
       "      <td>1</td>\n",
       "      <td>1</td>\n",
       "      <td>200000.0</td>\n",
       "      <td>0</td>\n",
       "      <td>3</td>\n",
       "      <td>0</td>\n",
       "      <td>1</td>\n",
       "    </tr>\n",
       "    <tr>\n",
       "      <th>5d35cf29b2cf38d2d17afcda</th>\n",
       "      <td>1</td>\n",
       "      <td>1</td>\n",
       "      <td>420000.0</td>\n",
       "      <td>0</td>\n",
       "      <td>3</td>\n",
       "      <td>0</td>\n",
       "      <td>1</td>\n",
       "    </tr>\n",
       "  </tbody>\n",
       "</table>\n",
       "<p>14964 rows × 7 columns</p>\n",
       "</div>"
      ],
      "text/plain": [
       "                          freq  recency   monetary  seg_km1  seg_km2  seg_km3  \\\n",
       "customer_id                                                                     \n",
       "5.94687E+23                  2        9   680000.0        0        3        0   \n",
       "5.94772E+23                  1       64   600000.0        2        4        4   \n",
       "5.94773E+23                  5        9  1700000.0        4        2        1   \n",
       "5.95E+25                     1        5   320000.0        0        3        0   \n",
       "58a4b0e452faff000179dbd0     7        7  1480000.0        4        2        1   \n",
       "...                        ...      ...        ...      ...      ...      ...   \n",
       "5d3584f8b2cf38d2d17aafba     1        1   200000.0        0        3        0   \n",
       "5d359600b2cf38d2d17ac0e7     1        1   520000.0        0        3        0   \n",
       "5d35a06bb2cf38d2d17acbc3     1        1   440000.0        0        3        0   \n",
       "5d35ae07b2cf38d2d17adb54     1        1   200000.0        0        3        0   \n",
       "5d35cf29b2cf38d2d17afcda     1        1   420000.0        0        3        0   \n",
       "\n",
       "                          seg_km4  \n",
       "customer_id                        \n",
       "5.94687E+23                     1  \n",
       "5.94772E+23                     0  \n",
       "5.94773E+23                     2  \n",
       "5.95E+25                        1  \n",
       "58a4b0e452faff000179dbd0        2  \n",
       "...                           ...  \n",
       "5d3584f8b2cf38d2d17aafba        1  \n",
       "5d359600b2cf38d2d17ac0e7        1  \n",
       "5d35a06bb2cf38d2d17acbc3        1  \n",
       "5d35ae07b2cf38d2d17adb54        1  \n",
       "5d35cf29b2cf38d2d17afcda        1  \n",
       "\n",
       "[14964 rows x 7 columns]"
      ]
     },
     "execution_count": 120,
     "metadata": {},
     "output_type": "execute_result"
    }
   ],
   "source": [
    "rfm_customer['seg_km4'] = seg_km4.predict(scaled_data)\n",
    "rfm_customer"
   ]
  },
  {
   "cell_type": "code",
   "execution_count": 121,
   "id": "460bbcb6",
   "metadata": {},
   "outputs": [
    {
     "data": {
      "text/html": [
       "<div>\n",
       "<style scoped>\n",
       "    .dataframe tbody tr th:only-of-type {\n",
       "        vertical-align: middle;\n",
       "    }\n",
       "\n",
       "    .dataframe tbody tr th {\n",
       "        vertical-align: top;\n",
       "    }\n",
       "\n",
       "    .dataframe thead th {\n",
       "        text-align: right;\n",
       "    }\n",
       "</style>\n",
       "<table border=\"1\" class=\"dataframe\">\n",
       "  <thead>\n",
       "    <tr style=\"text-align: right;\">\n",
       "      <th></th>\n",
       "      <th>freq</th>\n",
       "      <th>recency</th>\n",
       "      <th>monetary</th>\n",
       "    </tr>\n",
       "    <tr>\n",
       "      <th>seg_km4</th>\n",
       "      <th></th>\n",
       "      <th></th>\n",
       "      <th></th>\n",
       "    </tr>\n",
       "  </thead>\n",
       "  <tbody>\n",
       "    <tr>\n",
       "      <th>0</th>\n",
       "      <td>1.550369</td>\n",
       "      <td>40.388752</td>\n",
       "      <td>5.459023e+05</td>\n",
       "    </tr>\n",
       "    <tr>\n",
       "      <th>1</th>\n",
       "      <td>1.833882</td>\n",
       "      <td>9.707273</td>\n",
       "      <td>6.540527e+05</td>\n",
       "    </tr>\n",
       "    <tr>\n",
       "      <th>2</th>\n",
       "      <td>7.208262</td>\n",
       "      <td>10.183592</td>\n",
       "      <td>2.507229e+06</td>\n",
       "    </tr>\n",
       "    <tr>\n",
       "      <th>3</th>\n",
       "      <td>1.291134</td>\n",
       "      <td>88.687300</td>\n",
       "      <td>4.391454e+05</td>\n",
       "    </tr>\n",
       "    <tr>\n",
       "      <th>4</th>\n",
       "      <td>18.298387</td>\n",
       "      <td>10.056452</td>\n",
       "      <td>6.181882e+06</td>\n",
       "    </tr>\n",
       "  </tbody>\n",
       "</table>\n",
       "</div>"
      ],
      "text/plain": [
       "              freq    recency      monetary\n",
       "seg_km4                                    \n",
       "0         1.550369  40.388752  5.459023e+05\n",
       "1         1.833882   9.707273  6.540527e+05\n",
       "2         7.208262  10.183592  2.507229e+06\n",
       "3         1.291134  88.687300  4.391454e+05\n",
       "4        18.298387  10.056452  6.181882e+06"
      ]
     },
     "execution_count": 121,
     "metadata": {},
     "output_type": "execute_result"
    }
   ],
   "source": [
    "#Results\n",
    "rfm_customer.groupby(['seg_km4'])[['freq', 'recency', 'monetary']].mean()"
   ]
  },
  {
   "cell_type": "code",
   "execution_count": 122,
   "id": "1d1e6859",
   "metadata": {},
   "outputs": [
    {
     "data": {
      "image/png": "[encoded data removed]",
      "text/plain": [
       "<Figure size 640x480 with 1 Axes>"
      ]
     },
     "metadata": {},
     "output_type": "display_data"
    }
   ],
   "source": [
    "#Scatter Plot - Second Try\n",
    "plt.scatter(x = rfm_customer['freq'], y = rfm_customer['recency'], \n",
    "            c = rfm_customer['seg_km4'], alpha = 0.3)\n",
    "plt.xlabel('freq')\n",
    "plt.ylabel('recency')\n",
    "plt.title('Second Try - Kmeans++')\n",
    "plt.show()"
   ]
  },
  {
   "cell_type": "markdown",
   "id": "cd38514a",
   "metadata": {},
   "source": [
    "# Optimal Number of Clusters"
   ]
  },
  {
   "cell_type": "markdown",
   "id": "ea46c3e7",
   "metadata": {},
   "source": [
    "### Perform Elbow Method to find Optimal No. of Clusters"
   ]
  },
  {
   "cell_type": "code",
   "execution_count": 7,
   "id": "9911635f",
   "metadata": {},
   "outputs": [],
   "source": [
    "from sklearn.cluster import KMeans\n"
   ]
  },
  {
   "cell_type": "code",
   "execution_count": 123,
   "id": "2c8baf81",
   "metadata": {},
   "outputs": [],
   "source": [
    "sse = []\n",
    "for k in range(1, 11):\n",
    "    kmeans = KMeans(n_clusters = k, \n",
    "                    init = 'k-means++', \n",
    "                    random_state = 1234, \n",
    "                    n_init = 10)\n",
    "    kmeans.fit(scaled_data)\n",
    "    sse.append(kmeans.inertia_)"
   ]
  },
  {
   "cell_type": "code",
   "execution_count": 124,
   "id": "f97cadb3",
   "metadata": {
    "scrolled": true
   },
   "outputs": [
    {
     "data": {
      "image/png": "[encoded data removed]",
      "text/plain": [
       "<Figure size 640x480 with 1 Axes>"
      ]
     },
     "metadata": {},
     "output_type": "display_data"
    }
   ],
   "source": [
    "plt.plot(range(1, 11), sse)\n",
    "plt.xticks(range(1, 11))\n",
    "plt.xlabel(\"Number of Clusters\")\n",
    "plt.ylabel(\"Total within SSE\")\n",
    "plt.show()"
   ]
  },
  {
   "cell_type": "markdown",
   "id": "80a74088",
   "metadata": {},
   "source": [
    "### Silhouette Coefficient"
   ]
  },
  {
   "cell_type": "code",
   "execution_count": 125,
   "id": "eb58cbd6",
   "metadata": {},
   "outputs": [],
   "source": [
    "from sklearn.metrics import silhouette_score"
   ]
  },
  {
   "cell_type": "code",
   "execution_count": 126,
   "id": "b740592c",
   "metadata": {},
   "outputs": [],
   "source": [
    "silhouette_coefficients = []\n",
    "for k in range(2, 11):\n",
    "    kmeans = KMeans(n_clusters = k, \n",
    "                    init = 'k-means++', \n",
    "                    random_state = 1234, \n",
    "                    n_init = 10)\n",
    "    kmeans.fit(scaled_data)\n",
    "    score = silhouette_score(scaled_data, kmeans.labels_)\n",
    "    silhouette_coefficients.append(score)"
   ]
  },
  {
   "cell_type": "code",
   "execution_count": 127,
   "id": "7f80be06",
   "metadata": {},
   "outputs": [
    {
     "data": {
      "image/png": "[encoded data removed]",
      "text/plain": [
       "<Figure size 640x480 with 1 Axes>"
      ]
     },
     "metadata": {},
     "output_type": "display_data"
    }
   ],
   "source": [
    "plt.plot(range(2, 11), silhouette_coefficients)\n",
    "plt.xticks(range(2, 11))\n",
    "plt.xlabel(\"Number of Clusters\")\n",
    "plt.ylabel(\"Silhouette Coefficient\")\n",
    "plt.show()"
   ]
  },
  {
   "cell_type": "markdown",
   "id": "692b3908",
   "metadata": {},
   "source": [
    "### GitHub: https://github.com/elihe90/Customer_Segmentation-using-RFM-Clustering"
   ]
  },
  {
   "cell_type": "code",
   "execution_count": null,
   "id": "6855554c",
   "metadata": {},
   "outputs": [],
   "source": []
  }
 ],
 "metadata": {
  "kernelspec": {
   "display_name": "Python 3 (ipykernel)",
   "language": "python",
   "name": "python3"
  },
  "language_info": {
   "codemirror_mode": {
    "name": "ipython",
    "version": 3
   },
   "file_extension": ".py",
   "mimetype": "text/x-python",
   "name": "python",
   "nbconvert_exporter": "python",
   "pygments_lexer": "ipython3",
   "version": "3.11.4"
  }
 },
 "nbformat": 4,
 "nbformat_minor": 5
}
